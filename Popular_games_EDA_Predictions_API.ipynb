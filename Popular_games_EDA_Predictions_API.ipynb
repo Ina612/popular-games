{
  "cells": [
    {
      "cell_type": "markdown",
      "metadata": {
        "id": "SuR2YMTD1rJ0"
      },
      "source": [
        "### Preparation"
      ]
    },
    {
      "cell_type": "code",
      "execution_count": 3,
      "metadata": {
        "id": "5Q5aXG34QWVt"
      },
      "outputs": [],
      "source": [
        "# import basic libraries\n",
        "import pandas as pd\n",
        "import numpy as np\n",
        "import seaborn as sns\n",
        "import numpy as np\n",
        "\n",
        "import matplotlib.pyplot as plt\n",
        "\n",
        "# libraries for models\n",
        "from sklearn.model_selection import train_test_split\n",
        "from sklearn.model_selection import RandomizedSearchCV\n",
        "from scipy.stats import uniform, randint\n",
        "\n",
        "from sklearn.metrics import r2_score, mean_absolute_error, mean_squared_error\n",
        "\n",
        "from sklearn.svm import SVR\n",
        "from sklearn.ensemble import RandomForestRegressor\n",
        "from xgboost import XGBRegressor\n",
        "\n",
        "from keras.models import Sequential\n",
        "from keras.layers import Dense\n",
        "\n",
        "# additional tools\n",
        "from tqdm import tqdm"
      ]
    },
    {
      "cell_type": "code",
      "execution_count": 4,
      "metadata": {
        "colab": {
          "base_uri": "https://localhost:8080/"
        },
        "id": "052M2eC6XDBk",
        "outputId": "036f44e3-dd35-4422-a669-8e80258f85a0"
      },
      "outputs": [
        {
          "output_type": "stream",
          "name": "stdout",
          "text": [
            "Mounted at /content/drive\n"
          ]
        }
      ],
      "source": [
        "from google.colab import drive\n",
        "drive.mount('/content/drive')"
      ]
    },
    {
      "cell_type": "code",
      "execution_count": 5,
      "metadata": {
        "id": "et1LKTxxV5WJ"
      },
      "outputs": [],
      "source": [
        "df = pd.read_csv('/content/drive/My Drive/games.csv')"
      ]
    },
    {
      "cell_type": "code",
      "execution_count": 6,
      "metadata": {
        "colab": {
          "base_uri": "https://localhost:8080/",
          "height": 329
        },
        "id": "hP9poEzMXXm4",
        "outputId": "f2d64b7d-52e6-4e94-b5f1-1c05029c9dbc"
      },
      "outputs": [
        {
          "output_type": "execute_result",
          "data": {
            "text/plain": [
              "      Unnamed: 0                 Title  Release Date  \\\n",
              "586          586           Rollerdrome  Aug 16, 2022   \n",
              "1282        1282  Super Mario Sunshine  Sep 18, 2020   \n",
              "\n",
              "                               Team  Rating Times Listed Number of Reviews  \\\n",
              "586   ['Roll7', 'Private Division']     3.7          260               260   \n",
              "1282   ['Nintendo EAD', 'Nintendo']     3.7           19                19   \n",
              "\n",
              "                                          Genres  \\\n",
              "586   ['Adventure', 'Indie', 'Shooter', 'Sport']   \n",
              "1282                   ['Adventure', 'Platform']   \n",
              "\n",
              "                                                Summary  \\\n",
              "586   Rollerdrome is a third person action shooter t...   \n",
              "1282  A port of Super Mario Sunshine included in Sup...   \n",
              "\n",
              "                                                Reviews Plays Playing  \\\n",
              "586   ['cool ass game', 'A solid hybrid of Max Payne...   431      57   \n",
              "1282  ['What an amazing remaster of an already amazi...   340       6   \n",
              "\n",
              "     Backlogs Wishlist  \n",
              "586       351      492  \n",
              "1282       83       14  "
            ],
            "text/html": [
              "\n",
              "  <div id=\"df-97bc1c7a-5105-4252-94eb-2a8dcddc7d52\">\n",
              "    <div class=\"colab-df-container\">\n",
              "      <div>\n",
              "<style scoped>\n",
              "    .dataframe tbody tr th:only-of-type {\n",
              "        vertical-align: middle;\n",
              "    }\n",
              "\n",
              "    .dataframe tbody tr th {\n",
              "        vertical-align: top;\n",
              "    }\n",
              "\n",
              "    .dataframe thead th {\n",
              "        text-align: right;\n",
              "    }\n",
              "</style>\n",
              "<table border=\"1\" class=\"dataframe\">\n",
              "  <thead>\n",
              "    <tr style=\"text-align: right;\">\n",
              "      <th></th>\n",
              "      <th>Unnamed: 0</th>\n",
              "      <th>Title</th>\n",
              "      <th>Release Date</th>\n",
              "      <th>Team</th>\n",
              "      <th>Rating</th>\n",
              "      <th>Times Listed</th>\n",
              "      <th>Number of Reviews</th>\n",
              "      <th>Genres</th>\n",
              "      <th>Summary</th>\n",
              "      <th>Reviews</th>\n",
              "      <th>Plays</th>\n",
              "      <th>Playing</th>\n",
              "      <th>Backlogs</th>\n",
              "      <th>Wishlist</th>\n",
              "    </tr>\n",
              "  </thead>\n",
              "  <tbody>\n",
              "    <tr>\n",
              "      <th>586</th>\n",
              "      <td>586</td>\n",
              "      <td>Rollerdrome</td>\n",
              "      <td>Aug 16, 2022</td>\n",
              "      <td>['Roll7', 'Private Division']</td>\n",
              "      <td>3.7</td>\n",
              "      <td>260</td>\n",
              "      <td>260</td>\n",
              "      <td>['Adventure', 'Indie', 'Shooter', 'Sport']</td>\n",
              "      <td>Rollerdrome is a third person action shooter t...</td>\n",
              "      <td>['cool ass game', 'A solid hybrid of Max Payne...</td>\n",
              "      <td>431</td>\n",
              "      <td>57</td>\n",
              "      <td>351</td>\n",
              "      <td>492</td>\n",
              "    </tr>\n",
              "    <tr>\n",
              "      <th>1282</th>\n",
              "      <td>1282</td>\n",
              "      <td>Super Mario Sunshine</td>\n",
              "      <td>Sep 18, 2020</td>\n",
              "      <td>['Nintendo EAD', 'Nintendo']</td>\n",
              "      <td>3.7</td>\n",
              "      <td>19</td>\n",
              "      <td>19</td>\n",
              "      <td>['Adventure', 'Platform']</td>\n",
              "      <td>A port of Super Mario Sunshine included in Sup...</td>\n",
              "      <td>['What an amazing remaster of an already amazi...</td>\n",
              "      <td>340</td>\n",
              "      <td>6</td>\n",
              "      <td>83</td>\n",
              "      <td>14</td>\n",
              "    </tr>\n",
              "  </tbody>\n",
              "</table>\n",
              "</div>\n",
              "      <button class=\"colab-df-convert\" onclick=\"convertToInteractive('df-97bc1c7a-5105-4252-94eb-2a8dcddc7d52')\"\n",
              "              title=\"Convert this dataframe to an interactive table.\"\n",
              "              style=\"display:none;\">\n",
              "        \n",
              "  <svg xmlns=\"http://www.w3.org/2000/svg\" height=\"24px\"viewBox=\"0 0 24 24\"\n",
              "       width=\"24px\">\n",
              "    <path d=\"M0 0h24v24H0V0z\" fill=\"none\"/>\n",
              "    <path d=\"M18.56 5.44l.94 2.06.94-2.06 2.06-.94-2.06-.94-.94-2.06-.94 2.06-2.06.94zm-11 1L8.5 8.5l.94-2.06 2.06-.94-2.06-.94L8.5 2.5l-.94 2.06-2.06.94zm10 10l.94 2.06.94-2.06 2.06-.94-2.06-.94-.94-2.06-.94 2.06-2.06.94z\"/><path d=\"M17.41 7.96l-1.37-1.37c-.4-.4-.92-.59-1.43-.59-.52 0-1.04.2-1.43.59L10.3 9.45l-7.72 7.72c-.78.78-.78 2.05 0 2.83L4 21.41c.39.39.9.59 1.41.59.51 0 1.02-.2 1.41-.59l7.78-7.78 2.81-2.81c.8-.78.8-2.07 0-2.86zM5.41 20L4 18.59l7.72-7.72 1.47 1.35L5.41 20z\"/>\n",
              "  </svg>\n",
              "      </button>\n",
              "      \n",
              "  <style>\n",
              "    .colab-df-container {\n",
              "      display:flex;\n",
              "      flex-wrap:wrap;\n",
              "      gap: 12px;\n",
              "    }\n",
              "\n",
              "    .colab-df-convert {\n",
              "      background-color: #E8F0FE;\n",
              "      border: none;\n",
              "      border-radius: 50%;\n",
              "      cursor: pointer;\n",
              "      display: none;\n",
              "      fill: #1967D2;\n",
              "      height: 32px;\n",
              "      padding: 0 0 0 0;\n",
              "      width: 32px;\n",
              "    }\n",
              "\n",
              "    .colab-df-convert:hover {\n",
              "      background-color: #E2EBFA;\n",
              "      box-shadow: 0px 1px 2px rgba(60, 64, 67, 0.3), 0px 1px 3px 1px rgba(60, 64, 67, 0.15);\n",
              "      fill: #174EA6;\n",
              "    }\n",
              "\n",
              "    [theme=dark] .colab-df-convert {\n",
              "      background-color: #3B4455;\n",
              "      fill: #D2E3FC;\n",
              "    }\n",
              "\n",
              "    [theme=dark] .colab-df-convert:hover {\n",
              "      background-color: #434B5C;\n",
              "      box-shadow: 0px 1px 3px 1px rgba(0, 0, 0, 0.15);\n",
              "      filter: drop-shadow(0px 1px 2px rgba(0, 0, 0, 0.3));\n",
              "      fill: #FFFFFF;\n",
              "    }\n",
              "  </style>\n",
              "\n",
              "      <script>\n",
              "        const buttonEl =\n",
              "          document.querySelector('#df-97bc1c7a-5105-4252-94eb-2a8dcddc7d52 button.colab-df-convert');\n",
              "        buttonEl.style.display =\n",
              "          google.colab.kernel.accessAllowed ? 'block' : 'none';\n",
              "\n",
              "        async function convertToInteractive(key) {\n",
              "          const element = document.querySelector('#df-97bc1c7a-5105-4252-94eb-2a8dcddc7d52');\n",
              "          const dataTable =\n",
              "            await google.colab.kernel.invokeFunction('convertToInteractive',\n",
              "                                                     [key], {});\n",
              "          if (!dataTable) return;\n",
              "\n",
              "          const docLinkHtml = 'Like what you see? Visit the ' +\n",
              "            '<a target=\"_blank\" href=https://colab.research.google.com/notebooks/data_table.ipynb>data table notebook</a>'\n",
              "            + ' to learn more about interactive tables.';\n",
              "          element.innerHTML = '';\n",
              "          dataTable['output_type'] = 'display_data';\n",
              "          await google.colab.output.renderOutput(dataTable, element);\n",
              "          const docLink = document.createElement('div');\n",
              "          docLink.innerHTML = docLinkHtml;\n",
              "          element.appendChild(docLink);\n",
              "        }\n",
              "      </script>\n",
              "    </div>\n",
              "  </div>\n",
              "  "
            ]
          },
          "metadata": {},
          "execution_count": 6
        }
      ],
      "source": [
        "df.sample(2)"
      ]
    },
    {
      "cell_type": "code",
      "execution_count": 7,
      "metadata": {
        "colab": {
          "base_uri": "https://localhost:8080/"
        },
        "id": "bSmZNfivXhJg",
        "outputId": "94e46bbb-9ca6-44ca-b640-634e30ed18ef"
      },
      "outputs": [
        {
          "output_type": "stream",
          "name": "stdout",
          "text": [
            "<class 'pandas.core.frame.DataFrame'>\n",
            "RangeIndex: 1512 entries, 0 to 1511\n",
            "Data columns (total 14 columns):\n",
            " #   Column             Non-Null Count  Dtype  \n",
            "---  ------             --------------  -----  \n",
            " 0   Unnamed: 0         1512 non-null   int64  \n",
            " 1   Title              1512 non-null   object \n",
            " 2   Release Date       1512 non-null   object \n",
            " 3   Team               1511 non-null   object \n",
            " 4   Rating             1499 non-null   float64\n",
            " 5   Times Listed       1512 non-null   object \n",
            " 6   Number of Reviews  1512 non-null   object \n",
            " 7   Genres             1512 non-null   object \n",
            " 8   Summary            1511 non-null   object \n",
            " 9   Reviews            1512 non-null   object \n",
            " 10  Plays              1512 non-null   object \n",
            " 11  Playing            1512 non-null   object \n",
            " 12  Backlogs           1512 non-null   object \n",
            " 13  Wishlist           1512 non-null   object \n",
            "dtypes: float64(1), int64(1), object(12)\n",
            "memory usage: 165.5+ KB\n"
          ]
        }
      ],
      "source": [
        "df.info()\n",
        "\n",
        "# seems like we have a lot of improper types\n",
        "# let's fix them throughout preparation"
      ]
    },
    {
      "cell_type": "code",
      "execution_count": 8,
      "metadata": {
        "colab": {
          "base_uri": "https://localhost:8080/"
        },
        "id": "xGRoA2h-XpUL",
        "outputId": "201ec405-0c27-4a79-9b43-bb8c05e356b8"
      },
      "outputs": [
        {
          "output_type": "execute_result",
          "data": {
            "text/plain": [
              "Unnamed: 0            0\n",
              "Title                 0\n",
              "Release Date          0\n",
              "Team                  1\n",
              "Rating               13\n",
              "Times Listed          0\n",
              "Number of Reviews     0\n",
              "Genres                0\n",
              "Summary               1\n",
              "Reviews               0\n",
              "Plays                 0\n",
              "Playing               0\n",
              "Backlogs              0\n",
              "Wishlist              0\n",
              "dtype: int64"
            ]
          },
          "metadata": {},
          "execution_count": 8
        }
      ],
      "source": [
        "# looking through nulls\n",
        "null_count = df.isnull().sum()\n",
        "null_count"
      ]
    },
    {
      "cell_type": "code",
      "execution_count": 9,
      "metadata": {
        "colab": {
          "base_uri": "https://localhost:8080/"
        },
        "id": "ed941mUOXuOM",
        "outputId": "d70f81ed-e777-46cb-e56f-03cd38a94e07"
      },
      "outputs": [
        {
          "output_type": "execute_result",
          "data": {
            "text/plain": [
              "Team        1\n",
              "Rating     13\n",
              "Summary     1\n",
              "dtype: int64"
            ]
          },
          "metadata": {},
          "execution_count": 9
        }
      ],
      "source": [
        "null_count[null_count != 0]"
      ]
    },
    {
      "cell_type": "markdown",
      "metadata": {
        "id": "NsmKajX-1xya"
      },
      "source": [
        "### Data pre-processing"
      ]
    },
    {
      "cell_type": "code",
      "execution_count": 10,
      "metadata": {
        "colab": {
          "base_uri": "https://localhost:8080/",
          "height": 467
        },
        "id": "cN8cTYq_X1zq",
        "outputId": "599012f6-a436-4562-8d37-b678dc44938a"
      },
      "outputs": [
        {
          "output_type": "error",
          "ename": "ParserError",
          "evalue": "ignored",
          "traceback": [
            "\u001b[0;31m---------------------------------------------------------------------------\u001b[0m",
            "\u001b[0;31mParserError\u001b[0m                               Traceback (most recent call last)",
            "\u001b[0;32m/usr/local/lib/python3.10/dist-packages/pandas/_libs/tslib.pyx\u001b[0m in \u001b[0;36mpandas._libs.tslib.array_to_datetime\u001b[0;34m()\u001b[0m\n",
            "\u001b[0;32m/usr/local/lib/python3.10/dist-packages/pandas/_libs/tslibs/parsing.pyx\u001b[0m in \u001b[0;36mpandas._libs.tslibs.parsing.parse_datetime_string\u001b[0;34m()\u001b[0m\n",
            "\u001b[0;32m/usr/local/lib/python3.10/dist-packages/dateutil/parser/_parser.py\u001b[0m in \u001b[0;36mparse\u001b[0;34m(timestr, parserinfo, **kwargs)\u001b[0m\n\u001b[1;32m   1367\u001b[0m     \u001b[0;32melse\u001b[0m\u001b[0;34m:\u001b[0m\u001b[0;34m\u001b[0m\u001b[0;34m\u001b[0m\u001b[0m\n\u001b[0;32m-> 1368\u001b[0;31m         \u001b[0;32mreturn\u001b[0m \u001b[0mDEFAULTPARSER\u001b[0m\u001b[0;34m.\u001b[0m\u001b[0mparse\u001b[0m\u001b[0;34m(\u001b[0m\u001b[0mtimestr\u001b[0m\u001b[0;34m,\u001b[0m \u001b[0;34m**\u001b[0m\u001b[0mkwargs\u001b[0m\u001b[0;34m)\u001b[0m\u001b[0;34m\u001b[0m\u001b[0;34m\u001b[0m\u001b[0m\n\u001b[0m\u001b[1;32m   1369\u001b[0m \u001b[0;34m\u001b[0m\u001b[0m\n",
            "\u001b[0;32m/usr/local/lib/python3.10/dist-packages/dateutil/parser/_parser.py\u001b[0m in \u001b[0;36mparse\u001b[0;34m(self, timestr, default, ignoretz, tzinfos, **kwargs)\u001b[0m\n\u001b[1;32m    642\u001b[0m         \u001b[0;32mif\u001b[0m \u001b[0mres\u001b[0m \u001b[0;32mis\u001b[0m \u001b[0;32mNone\u001b[0m\u001b[0;34m:\u001b[0m\u001b[0;34m\u001b[0m\u001b[0;34m\u001b[0m\u001b[0m\n\u001b[0;32m--> 643\u001b[0;31m             \u001b[0;32mraise\u001b[0m \u001b[0mParserError\u001b[0m\u001b[0;34m(\u001b[0m\u001b[0;34m\"Unknown string format: %s\"\u001b[0m\u001b[0;34m,\u001b[0m \u001b[0mtimestr\u001b[0m\u001b[0;34m)\u001b[0m\u001b[0;34m\u001b[0m\u001b[0;34m\u001b[0m\u001b[0m\n\u001b[0m\u001b[1;32m    644\u001b[0m \u001b[0;34m\u001b[0m\u001b[0m\n",
            "\u001b[0;31mParserError\u001b[0m: Unknown string format: releases on TBD",
            "\nDuring handling of the above exception, another exception occurred:\n",
            "\u001b[0;31mTypeError\u001b[0m                                 Traceback (most recent call last)",
            "\u001b[0;32m/usr/local/lib/python3.10/dist-packages/pandas/_libs/tslib.pyx\u001b[0m in \u001b[0;36mpandas._libs.tslib.array_to_datetime\u001b[0;34m()\u001b[0m\n",
            "\u001b[0;31mTypeError\u001b[0m: invalid string coercion to datetime for \"releases on TBD\" at position 644",
            "\nDuring handling of the above exception, another exception occurred:\n",
            "\u001b[0;31mParserError\u001b[0m                               Traceback (most recent call last)",
            "\u001b[0;32m<ipython-input-10-e6792e1997a1>\u001b[0m in \u001b[0;36m<cell line: 1>\u001b[0;34m()\u001b[0m\n\u001b[0;32m----> 1\u001b[0;31m \u001b[0mdf\u001b[0m\u001b[0;34m[\u001b[0m\u001b[0;34m'Release Date'\u001b[0m\u001b[0;34m]\u001b[0m \u001b[0;34m=\u001b[0m \u001b[0mpd\u001b[0m\u001b[0;34m.\u001b[0m\u001b[0mto_datetime\u001b[0m\u001b[0;34m(\u001b[0m\u001b[0mdf\u001b[0m\u001b[0;34m[\u001b[0m\u001b[0;34m'Release Date'\u001b[0m\u001b[0;34m]\u001b[0m\u001b[0;34m)\u001b[0m\u001b[0;34m\u001b[0m\u001b[0;34m\u001b[0m\u001b[0m\n\u001b[0m\u001b[1;32m      2\u001b[0m \u001b[0;34m\u001b[0m\u001b[0m\n\u001b[1;32m      3\u001b[0m \u001b[0;31m#we have an error while converting the date to date type\u001b[0m\u001b[0;34m\u001b[0m\u001b[0;34m\u001b[0m\u001b[0m\n\u001b[1;32m      4\u001b[0m \u001b[0;31m#we can try to get rid of the releases on TBD\u001b[0m\u001b[0;34m\u001b[0m\u001b[0;34m\u001b[0m\u001b[0m\n",
            "\u001b[0;32m/usr/local/lib/python3.10/dist-packages/pandas/core/tools/datetimes.py\u001b[0m in \u001b[0;36mto_datetime\u001b[0;34m(arg, errors, dayfirst, yearfirst, utc, format, exact, unit, infer_datetime_format, origin, cache)\u001b[0m\n\u001b[1;32m   1066\u001b[0m             \u001b[0mresult\u001b[0m \u001b[0;34m=\u001b[0m \u001b[0marg\u001b[0m\u001b[0;34m.\u001b[0m\u001b[0mmap\u001b[0m\u001b[0;34m(\u001b[0m\u001b[0mcache_array\u001b[0m\u001b[0;34m)\u001b[0m\u001b[0;34m\u001b[0m\u001b[0;34m\u001b[0m\u001b[0m\n\u001b[1;32m   1067\u001b[0m         \u001b[0;32melse\u001b[0m\u001b[0;34m:\u001b[0m\u001b[0;34m\u001b[0m\u001b[0;34m\u001b[0m\u001b[0m\n\u001b[0;32m-> 1068\u001b[0;31m             \u001b[0mvalues\u001b[0m \u001b[0;34m=\u001b[0m \u001b[0mconvert_listlike\u001b[0m\u001b[0;34m(\u001b[0m\u001b[0marg\u001b[0m\u001b[0;34m.\u001b[0m\u001b[0m_values\u001b[0m\u001b[0;34m,\u001b[0m \u001b[0mformat\u001b[0m\u001b[0;34m)\u001b[0m\u001b[0;34m\u001b[0m\u001b[0;34m\u001b[0m\u001b[0m\n\u001b[0m\u001b[1;32m   1069\u001b[0m             \u001b[0mresult\u001b[0m \u001b[0;34m=\u001b[0m \u001b[0marg\u001b[0m\u001b[0;34m.\u001b[0m\u001b[0m_constructor\u001b[0m\u001b[0;34m(\u001b[0m\u001b[0mvalues\u001b[0m\u001b[0;34m,\u001b[0m \u001b[0mindex\u001b[0m\u001b[0;34m=\u001b[0m\u001b[0marg\u001b[0m\u001b[0;34m.\u001b[0m\u001b[0mindex\u001b[0m\u001b[0;34m,\u001b[0m \u001b[0mname\u001b[0m\u001b[0;34m=\u001b[0m\u001b[0marg\u001b[0m\u001b[0;34m.\u001b[0m\u001b[0mname\u001b[0m\u001b[0;34m)\u001b[0m\u001b[0;34m\u001b[0m\u001b[0;34m\u001b[0m\u001b[0m\n\u001b[1;32m   1070\u001b[0m     \u001b[0;32melif\u001b[0m \u001b[0misinstance\u001b[0m\u001b[0;34m(\u001b[0m\u001b[0marg\u001b[0m\u001b[0;34m,\u001b[0m \u001b[0;34m(\u001b[0m\u001b[0mABCDataFrame\u001b[0m\u001b[0;34m,\u001b[0m \u001b[0mabc\u001b[0m\u001b[0;34m.\u001b[0m\u001b[0mMutableMapping\u001b[0m\u001b[0;34m)\u001b[0m\u001b[0;34m)\u001b[0m\u001b[0;34m:\u001b[0m\u001b[0;34m\u001b[0m\u001b[0;34m\u001b[0m\u001b[0m\n",
            "\u001b[0;32m/usr/local/lib/python3.10/dist-packages/pandas/core/tools/datetimes.py\u001b[0m in \u001b[0;36m_convert_listlike_datetimes\u001b[0;34m(arg, format, name, tz, unit, errors, infer_datetime_format, dayfirst, yearfirst, exact)\u001b[0m\n\u001b[1;32m    436\u001b[0m     \u001b[0;32massert\u001b[0m \u001b[0mformat\u001b[0m \u001b[0;32mis\u001b[0m \u001b[0;32mNone\u001b[0m \u001b[0;32mor\u001b[0m \u001b[0minfer_datetime_format\u001b[0m\u001b[0;34m\u001b[0m\u001b[0;34m\u001b[0m\u001b[0m\n\u001b[1;32m    437\u001b[0m     \u001b[0mutc\u001b[0m \u001b[0;34m=\u001b[0m \u001b[0mtz\u001b[0m \u001b[0;34m==\u001b[0m \u001b[0;34m\"utc\"\u001b[0m\u001b[0;34m\u001b[0m\u001b[0;34m\u001b[0m\u001b[0m\n\u001b[0;32m--> 438\u001b[0;31m     result, tz_parsed = objects_to_datetime64ns(\n\u001b[0m\u001b[1;32m    439\u001b[0m         \u001b[0marg\u001b[0m\u001b[0;34m,\u001b[0m\u001b[0;34m\u001b[0m\u001b[0;34m\u001b[0m\u001b[0m\n\u001b[1;32m    440\u001b[0m         \u001b[0mdayfirst\u001b[0m\u001b[0;34m=\u001b[0m\u001b[0mdayfirst\u001b[0m\u001b[0;34m,\u001b[0m\u001b[0;34m\u001b[0m\u001b[0;34m\u001b[0m\u001b[0m\n",
            "\u001b[0;32m/usr/local/lib/python3.10/dist-packages/pandas/core/arrays/datetimes.py\u001b[0m in \u001b[0;36mobjects_to_datetime64ns\u001b[0;34m(data, dayfirst, yearfirst, utc, errors, require_iso8601, allow_object, allow_mixed)\u001b[0m\n\u001b[1;32m   2175\u001b[0m     \u001b[0morder\u001b[0m\u001b[0;34m:\u001b[0m \u001b[0mLiteral\u001b[0m\u001b[0;34m[\u001b[0m\u001b[0;34m\"F\"\u001b[0m\u001b[0;34m,\u001b[0m \u001b[0;34m\"C\"\u001b[0m\u001b[0;34m]\u001b[0m \u001b[0;34m=\u001b[0m \u001b[0;34m\"F\"\u001b[0m \u001b[0;32mif\u001b[0m \u001b[0mflags\u001b[0m\u001b[0;34m.\u001b[0m\u001b[0mf_contiguous\u001b[0m \u001b[0;32melse\u001b[0m \u001b[0;34m\"C\"\u001b[0m\u001b[0;34m\u001b[0m\u001b[0;34m\u001b[0m\u001b[0m\n\u001b[1;32m   2176\u001b[0m     \u001b[0;32mtry\u001b[0m\u001b[0;34m:\u001b[0m\u001b[0;34m\u001b[0m\u001b[0;34m\u001b[0m\u001b[0m\n\u001b[0;32m-> 2177\u001b[0;31m         result, tz_parsed = tslib.array_to_datetime(\n\u001b[0m\u001b[1;32m   2178\u001b[0m             \u001b[0mdata\u001b[0m\u001b[0;34m.\u001b[0m\u001b[0mravel\u001b[0m\u001b[0;34m(\u001b[0m\u001b[0;34m\"K\"\u001b[0m\u001b[0;34m)\u001b[0m\u001b[0;34m,\u001b[0m\u001b[0;34m\u001b[0m\u001b[0;34m\u001b[0m\u001b[0m\n\u001b[1;32m   2179\u001b[0m             \u001b[0merrors\u001b[0m\u001b[0;34m=\u001b[0m\u001b[0merrors\u001b[0m\u001b[0;34m,\u001b[0m\u001b[0;34m\u001b[0m\u001b[0;34m\u001b[0m\u001b[0m\n",
            "\u001b[0;32m/usr/local/lib/python3.10/dist-packages/pandas/_libs/tslib.pyx\u001b[0m in \u001b[0;36mpandas._libs.tslib.array_to_datetime\u001b[0;34m()\u001b[0m\n",
            "\u001b[0;32m/usr/local/lib/python3.10/dist-packages/pandas/_libs/tslib.pyx\u001b[0m in \u001b[0;36mpandas._libs.tslib.array_to_datetime\u001b[0;34m()\u001b[0m\n",
            "\u001b[0;32m/usr/local/lib/python3.10/dist-packages/pandas/_libs/tslib.pyx\u001b[0m in \u001b[0;36mpandas._libs.tslib._array_to_datetime_object\u001b[0;34m()\u001b[0m\n",
            "\u001b[0;32m/usr/local/lib/python3.10/dist-packages/pandas/_libs/tslib.pyx\u001b[0m in \u001b[0;36mpandas._libs.tslib._array_to_datetime_object\u001b[0;34m()\u001b[0m\n",
            "\u001b[0;32m/usr/local/lib/python3.10/dist-packages/pandas/_libs/tslibs/parsing.pyx\u001b[0m in \u001b[0;36mpandas._libs.tslibs.parsing.parse_datetime_string\u001b[0;34m()\u001b[0m\n",
            "\u001b[0;32m/usr/local/lib/python3.10/dist-packages/dateutil/parser/_parser.py\u001b[0m in \u001b[0;36mparse\u001b[0;34m(timestr, parserinfo, **kwargs)\u001b[0m\n\u001b[1;32m   1366\u001b[0m         \u001b[0;32mreturn\u001b[0m \u001b[0mparser\u001b[0m\u001b[0;34m(\u001b[0m\u001b[0mparserinfo\u001b[0m\u001b[0;34m)\u001b[0m\u001b[0;34m.\u001b[0m\u001b[0mparse\u001b[0m\u001b[0;34m(\u001b[0m\u001b[0mtimestr\u001b[0m\u001b[0;34m,\u001b[0m \u001b[0;34m**\u001b[0m\u001b[0mkwargs\u001b[0m\u001b[0;34m)\u001b[0m\u001b[0;34m\u001b[0m\u001b[0;34m\u001b[0m\u001b[0m\n\u001b[1;32m   1367\u001b[0m     \u001b[0;32melse\u001b[0m\u001b[0;34m:\u001b[0m\u001b[0;34m\u001b[0m\u001b[0;34m\u001b[0m\u001b[0m\n\u001b[0;32m-> 1368\u001b[0;31m         \u001b[0;32mreturn\u001b[0m \u001b[0mDEFAULTPARSER\u001b[0m\u001b[0;34m.\u001b[0m\u001b[0mparse\u001b[0m\u001b[0;34m(\u001b[0m\u001b[0mtimestr\u001b[0m\u001b[0;34m,\u001b[0m \u001b[0;34m**\u001b[0m\u001b[0mkwargs\u001b[0m\u001b[0;34m)\u001b[0m\u001b[0;34m\u001b[0m\u001b[0;34m\u001b[0m\u001b[0m\n\u001b[0m\u001b[1;32m   1369\u001b[0m \u001b[0;34m\u001b[0m\u001b[0m\n\u001b[1;32m   1370\u001b[0m \u001b[0;34m\u001b[0m\u001b[0m\n",
            "\u001b[0;32m/usr/local/lib/python3.10/dist-packages/dateutil/parser/_parser.py\u001b[0m in \u001b[0;36mparse\u001b[0;34m(self, timestr, default, ignoretz, tzinfos, **kwargs)\u001b[0m\n\u001b[1;32m    641\u001b[0m \u001b[0;34m\u001b[0m\u001b[0m\n\u001b[1;32m    642\u001b[0m         \u001b[0;32mif\u001b[0m \u001b[0mres\u001b[0m \u001b[0;32mis\u001b[0m \u001b[0;32mNone\u001b[0m\u001b[0;34m:\u001b[0m\u001b[0;34m\u001b[0m\u001b[0;34m\u001b[0m\u001b[0m\n\u001b[0;32m--> 643\u001b[0;31m             \u001b[0;32mraise\u001b[0m \u001b[0mParserError\u001b[0m\u001b[0;34m(\u001b[0m\u001b[0;34m\"Unknown string format: %s\"\u001b[0m\u001b[0;34m,\u001b[0m \u001b[0mtimestr\u001b[0m\u001b[0;34m)\u001b[0m\u001b[0;34m\u001b[0m\u001b[0;34m\u001b[0m\u001b[0m\n\u001b[0m\u001b[1;32m    644\u001b[0m \u001b[0;34m\u001b[0m\u001b[0m\n\u001b[1;32m    645\u001b[0m         \u001b[0;32mif\u001b[0m \u001b[0mlen\u001b[0m\u001b[0;34m(\u001b[0m\u001b[0mres\u001b[0m\u001b[0;34m)\u001b[0m \u001b[0;34m==\u001b[0m \u001b[0;36m0\u001b[0m\u001b[0;34m:\u001b[0m\u001b[0;34m\u001b[0m\u001b[0;34m\u001b[0m\u001b[0m\n",
            "\u001b[0;31mParserError\u001b[0m: Unknown string format: releases on TBD present at position 644"
          ]
        }
      ],
      "source": [
        "df['Release Date'] = pd.to_datetime(df['Release Date'])\n",
        "\n",
        "# we have an error while converting the date to date type\n",
        "# we can try to get rid of the releases on TBD"
      ]
    },
    {
      "cell_type": "code",
      "execution_count": 11,
      "metadata": {
        "colab": {
          "base_uri": "https://localhost:8080/",
          "height": 395
        },
        "id": "Yx005i5GaJaS",
        "outputId": "ac812de5-ee44-4bac-9f12-e81df3296ef7"
      },
      "outputs": [
        {
          "output_type": "execute_result",
          "data": {
            "text/plain": [
              "      Unnamed: 0                              Title     Release Date  \\\n",
              "644          644                          Deltarune  releases on TBD   \n",
              "649          649                  Death Stranding 2  releases on TBD   \n",
              "1252        1252  Elden Ring: Shadow of the Erdtree  releases on TBD   \n",
              "\n",
              "                                                Team  Rating Times Listed  \\\n",
              "644                                      ['tobyfox']     4.3          313   \n",
              "649                           ['Kojima Productions']     NaN          105   \n",
              "1252  ['FromSoftware', 'Bandai Namco Entertainment']     4.8           18   \n",
              "\n",
              "     Number of Reviews                                            Genres  \\\n",
              "644                313  ['Adventure', 'Indie', 'Music', 'Puzzle', 'RPG']   \n",
              "649                105                          ['Adventure', 'Shooter']   \n",
              "1252                18                              ['Adventure', 'RPG']   \n",
              "\n",
              "                                                Summary  \\\n",
              "644   UNDERTALE's parallel story, DELTARUNE. Meet ne...   \n",
              "649                                                 NaN   \n",
              "1252  An expansion to Elden Ring setting players on ...   \n",
              "\n",
              "                                                Reviews Plays Playing  \\\n",
              "644   ['Spamton is so hot, I want to kiss him in the...  1.3K      83   \n",
              "649                                                  []     3       0   \n",
              "1252  ['I really loved that they integrated Family G...     1       0   \n",
              "\n",
              "     Backlogs Wishlist  \n",
              "644       468      617  \n",
              "649       209      644  \n",
              "1252       39      146  "
            ],
            "text/html": [
              "\n",
              "  <div id=\"df-d7d2fd66-3bfe-47a3-abb7-369bd16f1cf4\">\n",
              "    <div class=\"colab-df-container\">\n",
              "      <div>\n",
              "<style scoped>\n",
              "    .dataframe tbody tr th:only-of-type {\n",
              "        vertical-align: middle;\n",
              "    }\n",
              "\n",
              "    .dataframe tbody tr th {\n",
              "        vertical-align: top;\n",
              "    }\n",
              "\n",
              "    .dataframe thead th {\n",
              "        text-align: right;\n",
              "    }\n",
              "</style>\n",
              "<table border=\"1\" class=\"dataframe\">\n",
              "  <thead>\n",
              "    <tr style=\"text-align: right;\">\n",
              "      <th></th>\n",
              "      <th>Unnamed: 0</th>\n",
              "      <th>Title</th>\n",
              "      <th>Release Date</th>\n",
              "      <th>Team</th>\n",
              "      <th>Rating</th>\n",
              "      <th>Times Listed</th>\n",
              "      <th>Number of Reviews</th>\n",
              "      <th>Genres</th>\n",
              "      <th>Summary</th>\n",
              "      <th>Reviews</th>\n",
              "      <th>Plays</th>\n",
              "      <th>Playing</th>\n",
              "      <th>Backlogs</th>\n",
              "      <th>Wishlist</th>\n",
              "    </tr>\n",
              "  </thead>\n",
              "  <tbody>\n",
              "    <tr>\n",
              "      <th>644</th>\n",
              "      <td>644</td>\n",
              "      <td>Deltarune</td>\n",
              "      <td>releases on TBD</td>\n",
              "      <td>['tobyfox']</td>\n",
              "      <td>4.3</td>\n",
              "      <td>313</td>\n",
              "      <td>313</td>\n",
              "      <td>['Adventure', 'Indie', 'Music', 'Puzzle', 'RPG']</td>\n",
              "      <td>UNDERTALE's parallel story, DELTARUNE. Meet ne...</td>\n",
              "      <td>['Spamton is so hot, I want to kiss him in the...</td>\n",
              "      <td>1.3K</td>\n",
              "      <td>83</td>\n",
              "      <td>468</td>\n",
              "      <td>617</td>\n",
              "    </tr>\n",
              "    <tr>\n",
              "      <th>649</th>\n",
              "      <td>649</td>\n",
              "      <td>Death Stranding 2</td>\n",
              "      <td>releases on TBD</td>\n",
              "      <td>['Kojima Productions']</td>\n",
              "      <td>NaN</td>\n",
              "      <td>105</td>\n",
              "      <td>105</td>\n",
              "      <td>['Adventure', 'Shooter']</td>\n",
              "      <td>NaN</td>\n",
              "      <td>[]</td>\n",
              "      <td>3</td>\n",
              "      <td>0</td>\n",
              "      <td>209</td>\n",
              "      <td>644</td>\n",
              "    </tr>\n",
              "    <tr>\n",
              "      <th>1252</th>\n",
              "      <td>1252</td>\n",
              "      <td>Elden Ring: Shadow of the Erdtree</td>\n",
              "      <td>releases on TBD</td>\n",
              "      <td>['FromSoftware', 'Bandai Namco Entertainment']</td>\n",
              "      <td>4.8</td>\n",
              "      <td>18</td>\n",
              "      <td>18</td>\n",
              "      <td>['Adventure', 'RPG']</td>\n",
              "      <td>An expansion to Elden Ring setting players on ...</td>\n",
              "      <td>['I really loved that they integrated Family G...</td>\n",
              "      <td>1</td>\n",
              "      <td>0</td>\n",
              "      <td>39</td>\n",
              "      <td>146</td>\n",
              "    </tr>\n",
              "  </tbody>\n",
              "</table>\n",
              "</div>\n",
              "      <button class=\"colab-df-convert\" onclick=\"convertToInteractive('df-d7d2fd66-3bfe-47a3-abb7-369bd16f1cf4')\"\n",
              "              title=\"Convert this dataframe to an interactive table.\"\n",
              "              style=\"display:none;\">\n",
              "        \n",
              "  <svg xmlns=\"http://www.w3.org/2000/svg\" height=\"24px\"viewBox=\"0 0 24 24\"\n",
              "       width=\"24px\">\n",
              "    <path d=\"M0 0h24v24H0V0z\" fill=\"none\"/>\n",
              "    <path d=\"M18.56 5.44l.94 2.06.94-2.06 2.06-.94-2.06-.94-.94-2.06-.94 2.06-2.06.94zm-11 1L8.5 8.5l.94-2.06 2.06-.94-2.06-.94L8.5 2.5l-.94 2.06-2.06.94zm10 10l.94 2.06.94-2.06 2.06-.94-2.06-.94-.94-2.06-.94 2.06-2.06.94z\"/><path d=\"M17.41 7.96l-1.37-1.37c-.4-.4-.92-.59-1.43-.59-.52 0-1.04.2-1.43.59L10.3 9.45l-7.72 7.72c-.78.78-.78 2.05 0 2.83L4 21.41c.39.39.9.59 1.41.59.51 0 1.02-.2 1.41-.59l7.78-7.78 2.81-2.81c.8-.78.8-2.07 0-2.86zM5.41 20L4 18.59l7.72-7.72 1.47 1.35L5.41 20z\"/>\n",
              "  </svg>\n",
              "      </button>\n",
              "      \n",
              "  <style>\n",
              "    .colab-df-container {\n",
              "      display:flex;\n",
              "      flex-wrap:wrap;\n",
              "      gap: 12px;\n",
              "    }\n",
              "\n",
              "    .colab-df-convert {\n",
              "      background-color: #E8F0FE;\n",
              "      border: none;\n",
              "      border-radius: 50%;\n",
              "      cursor: pointer;\n",
              "      display: none;\n",
              "      fill: #1967D2;\n",
              "      height: 32px;\n",
              "      padding: 0 0 0 0;\n",
              "      width: 32px;\n",
              "    }\n",
              "\n",
              "    .colab-df-convert:hover {\n",
              "      background-color: #E2EBFA;\n",
              "      box-shadow: 0px 1px 2px rgba(60, 64, 67, 0.3), 0px 1px 3px 1px rgba(60, 64, 67, 0.15);\n",
              "      fill: #174EA6;\n",
              "    }\n",
              "\n",
              "    [theme=dark] .colab-df-convert {\n",
              "      background-color: #3B4455;\n",
              "      fill: #D2E3FC;\n",
              "    }\n",
              "\n",
              "    [theme=dark] .colab-df-convert:hover {\n",
              "      background-color: #434B5C;\n",
              "      box-shadow: 0px 1px 3px 1px rgba(0, 0, 0, 0.15);\n",
              "      filter: drop-shadow(0px 1px 2px rgba(0, 0, 0, 0.3));\n",
              "      fill: #FFFFFF;\n",
              "    }\n",
              "  </style>\n",
              "\n",
              "      <script>\n",
              "        const buttonEl =\n",
              "          document.querySelector('#df-d7d2fd66-3bfe-47a3-abb7-369bd16f1cf4 button.colab-df-convert');\n",
              "        buttonEl.style.display =\n",
              "          google.colab.kernel.accessAllowed ? 'block' : 'none';\n",
              "\n",
              "        async function convertToInteractive(key) {\n",
              "          const element = document.querySelector('#df-d7d2fd66-3bfe-47a3-abb7-369bd16f1cf4');\n",
              "          const dataTable =\n",
              "            await google.colab.kernel.invokeFunction('convertToInteractive',\n",
              "                                                     [key], {});\n",
              "          if (!dataTable) return;\n",
              "\n",
              "          const docLinkHtml = 'Like what you see? Visit the ' +\n",
              "            '<a target=\"_blank\" href=https://colab.research.google.com/notebooks/data_table.ipynb>data table notebook</a>'\n",
              "            + ' to learn more about interactive tables.';\n",
              "          element.innerHTML = '';\n",
              "          dataTable['output_type'] = 'display_data';\n",
              "          await google.colab.output.renderOutput(dataTable, element);\n",
              "          const docLink = document.createElement('div');\n",
              "          docLink.innerHTML = docLinkHtml;\n",
              "          element.appendChild(docLink);\n",
              "        }\n",
              "      </script>\n",
              "    </div>\n",
              "  </div>\n",
              "  "
            ]
          },
          "metadata": {},
          "execution_count": 11
        }
      ],
      "source": [
        "cond = df[\"Release Date\"] == \"releases on TBD\"\n",
        "df[cond]"
      ]
    },
    {
      "cell_type": "code",
      "execution_count": 12,
      "metadata": {
        "id": "Il40Z9c7aYKM"
      },
      "outputs": [],
      "source": [
        "# let's just drop them, as there are only three variables\n",
        "df = df.drop([644, 649, 1252], axis=0)"
      ]
    },
    {
      "cell_type": "code",
      "execution_count": 13,
      "metadata": {
        "id": "zcBOWAVHcWHC"
      },
      "outputs": [],
      "source": [
        "# we can additionally drop other columns, because here we don't need them\n",
        "df = df.drop(columns=['Unnamed: 0', 'Times Listed', 'Summary', 'Reviews', 'Team'])"
      ]
    },
    {
      "cell_type": "code",
      "execution_count": 14,
      "metadata": {
        "id": "MDReHTJJcgkY"
      },
      "outputs": [],
      "source": [
        "# make all the column names lowercase\n",
        "df.columns = df.columns.str.lower()\n",
        "\n",
        "# replace spaces with _\n",
        "df.columns = df.columns.str.replace(' ', '_')"
      ]
    },
    {
      "cell_type": "code",
      "execution_count": 15,
      "metadata": {
        "colab": {
          "base_uri": "https://localhost:8080/",
          "height": 112
        },
        "id": "mXrtaNWRa_fS",
        "outputId": "bf97fe38-48b7-42d3-8600-87a39bfac95d"
      },
      "outputs": [
        {
          "output_type": "execute_result",
          "data": {
            "text/plain": [
              "        title  release_date  rating number_of_reviews  \\\n",
              "0  Elden Ring  Feb 25, 2022     4.5              3.9K   \n",
              "1       Hades  Dec 10, 2019     4.3              2.9K   \n",
              "\n",
              "                                     genres no_of_plays active_players  \\\n",
              "0                      ['Adventure', 'RPG']         17K           3.8K   \n",
              "1  ['Adventure', 'Brawler', 'Indie', 'RPG']         21K           3.2K   \n",
              "\n",
              "  backlogs wishlist  \n",
              "0     4.6K     4.8K  \n",
              "1     6.3K     3.6K  "
            ],
            "text/html": [
              "\n",
              "  <div id=\"df-c44ce992-12d7-4600-aa29-1206b7a23629\">\n",
              "    <div class=\"colab-df-container\">\n",
              "      <div>\n",
              "<style scoped>\n",
              "    .dataframe tbody tr th:only-of-type {\n",
              "        vertical-align: middle;\n",
              "    }\n",
              "\n",
              "    .dataframe tbody tr th {\n",
              "        vertical-align: top;\n",
              "    }\n",
              "\n",
              "    .dataframe thead th {\n",
              "        text-align: right;\n",
              "    }\n",
              "</style>\n",
              "<table border=\"1\" class=\"dataframe\">\n",
              "  <thead>\n",
              "    <tr style=\"text-align: right;\">\n",
              "      <th></th>\n",
              "      <th>title</th>\n",
              "      <th>release_date</th>\n",
              "      <th>rating</th>\n",
              "      <th>number_of_reviews</th>\n",
              "      <th>genres</th>\n",
              "      <th>no_of_plays</th>\n",
              "      <th>active_players</th>\n",
              "      <th>backlogs</th>\n",
              "      <th>wishlist</th>\n",
              "    </tr>\n",
              "  </thead>\n",
              "  <tbody>\n",
              "    <tr>\n",
              "      <th>0</th>\n",
              "      <td>Elden Ring</td>\n",
              "      <td>Feb 25, 2022</td>\n",
              "      <td>4.5</td>\n",
              "      <td>3.9K</td>\n",
              "      <td>['Adventure', 'RPG']</td>\n",
              "      <td>17K</td>\n",
              "      <td>3.8K</td>\n",
              "      <td>4.6K</td>\n",
              "      <td>4.8K</td>\n",
              "    </tr>\n",
              "    <tr>\n",
              "      <th>1</th>\n",
              "      <td>Hades</td>\n",
              "      <td>Dec 10, 2019</td>\n",
              "      <td>4.3</td>\n",
              "      <td>2.9K</td>\n",
              "      <td>['Adventure', 'Brawler', 'Indie', 'RPG']</td>\n",
              "      <td>21K</td>\n",
              "      <td>3.2K</td>\n",
              "      <td>6.3K</td>\n",
              "      <td>3.6K</td>\n",
              "    </tr>\n",
              "  </tbody>\n",
              "</table>\n",
              "</div>\n",
              "      <button class=\"colab-df-convert\" onclick=\"convertToInteractive('df-c44ce992-12d7-4600-aa29-1206b7a23629')\"\n",
              "              title=\"Convert this dataframe to an interactive table.\"\n",
              "              style=\"display:none;\">\n",
              "        \n",
              "  <svg xmlns=\"http://www.w3.org/2000/svg\" height=\"24px\"viewBox=\"0 0 24 24\"\n",
              "       width=\"24px\">\n",
              "    <path d=\"M0 0h24v24H0V0z\" fill=\"none\"/>\n",
              "    <path d=\"M18.56 5.44l.94 2.06.94-2.06 2.06-.94-2.06-.94-.94-2.06-.94 2.06-2.06.94zm-11 1L8.5 8.5l.94-2.06 2.06-.94-2.06-.94L8.5 2.5l-.94 2.06-2.06.94zm10 10l.94 2.06.94-2.06 2.06-.94-2.06-.94-.94-2.06-.94 2.06-2.06.94z\"/><path d=\"M17.41 7.96l-1.37-1.37c-.4-.4-.92-.59-1.43-.59-.52 0-1.04.2-1.43.59L10.3 9.45l-7.72 7.72c-.78.78-.78 2.05 0 2.83L4 21.41c.39.39.9.59 1.41.59.51 0 1.02-.2 1.41-.59l7.78-7.78 2.81-2.81c.8-.78.8-2.07 0-2.86zM5.41 20L4 18.59l7.72-7.72 1.47 1.35L5.41 20z\"/>\n",
              "  </svg>\n",
              "      </button>\n",
              "      \n",
              "  <style>\n",
              "    .colab-df-container {\n",
              "      display:flex;\n",
              "      flex-wrap:wrap;\n",
              "      gap: 12px;\n",
              "    }\n",
              "\n",
              "    .colab-df-convert {\n",
              "      background-color: #E8F0FE;\n",
              "      border: none;\n",
              "      border-radius: 50%;\n",
              "      cursor: pointer;\n",
              "      display: none;\n",
              "      fill: #1967D2;\n",
              "      height: 32px;\n",
              "      padding: 0 0 0 0;\n",
              "      width: 32px;\n",
              "    }\n",
              "\n",
              "    .colab-df-convert:hover {\n",
              "      background-color: #E2EBFA;\n",
              "      box-shadow: 0px 1px 2px rgba(60, 64, 67, 0.3), 0px 1px 3px 1px rgba(60, 64, 67, 0.15);\n",
              "      fill: #174EA6;\n",
              "    }\n",
              "\n",
              "    [theme=dark] .colab-df-convert {\n",
              "      background-color: #3B4455;\n",
              "      fill: #D2E3FC;\n",
              "    }\n",
              "\n",
              "    [theme=dark] .colab-df-convert:hover {\n",
              "      background-color: #434B5C;\n",
              "      box-shadow: 0px 1px 3px 1px rgba(0, 0, 0, 0.15);\n",
              "      filter: drop-shadow(0px 1px 2px rgba(0, 0, 0, 0.3));\n",
              "      fill: #FFFFFF;\n",
              "    }\n",
              "  </style>\n",
              "\n",
              "      <script>\n",
              "        const buttonEl =\n",
              "          document.querySelector('#df-c44ce992-12d7-4600-aa29-1206b7a23629 button.colab-df-convert');\n",
              "        buttonEl.style.display =\n",
              "          google.colab.kernel.accessAllowed ? 'block' : 'none';\n",
              "\n",
              "        async function convertToInteractive(key) {\n",
              "          const element = document.querySelector('#df-c44ce992-12d7-4600-aa29-1206b7a23629');\n",
              "          const dataTable =\n",
              "            await google.colab.kernel.invokeFunction('convertToInteractive',\n",
              "                                                     [key], {});\n",
              "          if (!dataTable) return;\n",
              "\n",
              "          const docLinkHtml = 'Like what you see? Visit the ' +\n",
              "            '<a target=\"_blank\" href=https://colab.research.google.com/notebooks/data_table.ipynb>data table notebook</a>'\n",
              "            + ' to learn more about interactive tables.';\n",
              "          element.innerHTML = '';\n",
              "          dataTable['output_type'] = 'display_data';\n",
              "          await google.colab.output.renderOutput(dataTable, element);\n",
              "          const docLink = document.createElement('div');\n",
              "          docLink.innerHTML = docLinkHtml;\n",
              "          element.appendChild(docLink);\n",
              "        }\n",
              "      </script>\n",
              "    </div>\n",
              "  </div>\n",
              "  "
            ]
          },
          "metadata": {},
          "execution_count": 15
        }
      ],
      "source": [
        "rename_mapper = {\"plays\":\"no_of_plays\", \"playing\":\"active_players\"}\n",
        "df.rename(columns=rename_mapper, inplace=True)\n",
        "df.head(2)"
      ]
    },
    {
      "cell_type": "code",
      "execution_count": 16,
      "metadata": {
        "id": "M3DIbC2Yb_ev"
      },
      "outputs": [],
      "source": [
        "def convert_str_num_to_int(df: pd.DataFrame, col_names: list) -> pd.DataFrame:\n",
        "   # taking a copy of the provided dataframe\n",
        "    new_df = df.copy()\n",
        "\n",
        "    # looping over the column names list\n",
        "    for col in col_names:\n",
        "        # replace 'K' with '000'\n",
        "        new_df[col] = new_df[col].str.replace(\"K\", \"000\")\n",
        "\n",
        "        # multiply the values by 1000 to handle decimal values correctly\n",
        "        new_df[col] = new_df[col].map(lambda x: int(float(x) * 1000) if '.' in x else int(x))\n",
        "\n",
        "    return new_df"
      ]
    },
    {
      "cell_type": "code",
      "execution_count": 17,
      "metadata": {
        "colab": {
          "base_uri": "https://localhost:8080/",
          "height": 112
        },
        "id": "FAzs5fkPbNz2",
        "outputId": "df5cd53f-0709-4fe1-a4b7-362b35d275fc"
      },
      "outputs": [
        {
          "output_type": "execute_result",
          "data": {
            "text/plain": [
              "        title  release_date  rating  number_of_reviews  \\\n",
              "0  Elden Ring  Feb 25, 2022     4.5               3900   \n",
              "1       Hades  Dec 10, 2019     4.3               2900   \n",
              "\n",
              "                                     genres  no_of_plays  active_players  \\\n",
              "0                      ['Adventure', 'RPG']        17000            3800   \n",
              "1  ['Adventure', 'Brawler', 'Indie', 'RPG']        21000            3200   \n",
              "\n",
              "   backlogs  wishlist  \n",
              "0      4600      4800  \n",
              "1      6300      3600  "
            ],
            "text/html": [
              "\n",
              "  <div id=\"df-0633b5d4-c846-4c34-a463-2678dca6e309\">\n",
              "    <div class=\"colab-df-container\">\n",
              "      <div>\n",
              "<style scoped>\n",
              "    .dataframe tbody tr th:only-of-type {\n",
              "        vertical-align: middle;\n",
              "    }\n",
              "\n",
              "    .dataframe tbody tr th {\n",
              "        vertical-align: top;\n",
              "    }\n",
              "\n",
              "    .dataframe thead th {\n",
              "        text-align: right;\n",
              "    }\n",
              "</style>\n",
              "<table border=\"1\" class=\"dataframe\">\n",
              "  <thead>\n",
              "    <tr style=\"text-align: right;\">\n",
              "      <th></th>\n",
              "      <th>title</th>\n",
              "      <th>release_date</th>\n",
              "      <th>rating</th>\n",
              "      <th>number_of_reviews</th>\n",
              "      <th>genres</th>\n",
              "      <th>no_of_plays</th>\n",
              "      <th>active_players</th>\n",
              "      <th>backlogs</th>\n",
              "      <th>wishlist</th>\n",
              "    </tr>\n",
              "  </thead>\n",
              "  <tbody>\n",
              "    <tr>\n",
              "      <th>0</th>\n",
              "      <td>Elden Ring</td>\n",
              "      <td>Feb 25, 2022</td>\n",
              "      <td>4.5</td>\n",
              "      <td>3900</td>\n",
              "      <td>['Adventure', 'RPG']</td>\n",
              "      <td>17000</td>\n",
              "      <td>3800</td>\n",
              "      <td>4600</td>\n",
              "      <td>4800</td>\n",
              "    </tr>\n",
              "    <tr>\n",
              "      <th>1</th>\n",
              "      <td>Hades</td>\n",
              "      <td>Dec 10, 2019</td>\n",
              "      <td>4.3</td>\n",
              "      <td>2900</td>\n",
              "      <td>['Adventure', 'Brawler', 'Indie', 'RPG']</td>\n",
              "      <td>21000</td>\n",
              "      <td>3200</td>\n",
              "      <td>6300</td>\n",
              "      <td>3600</td>\n",
              "    </tr>\n",
              "  </tbody>\n",
              "</table>\n",
              "</div>\n",
              "      <button class=\"colab-df-convert\" onclick=\"convertToInteractive('df-0633b5d4-c846-4c34-a463-2678dca6e309')\"\n",
              "              title=\"Convert this dataframe to an interactive table.\"\n",
              "              style=\"display:none;\">\n",
              "        \n",
              "  <svg xmlns=\"http://www.w3.org/2000/svg\" height=\"24px\"viewBox=\"0 0 24 24\"\n",
              "       width=\"24px\">\n",
              "    <path d=\"M0 0h24v24H0V0z\" fill=\"none\"/>\n",
              "    <path d=\"M18.56 5.44l.94 2.06.94-2.06 2.06-.94-2.06-.94-.94-2.06-.94 2.06-2.06.94zm-11 1L8.5 8.5l.94-2.06 2.06-.94-2.06-.94L8.5 2.5l-.94 2.06-2.06.94zm10 10l.94 2.06.94-2.06 2.06-.94-2.06-.94-.94-2.06-.94 2.06-2.06.94z\"/><path d=\"M17.41 7.96l-1.37-1.37c-.4-.4-.92-.59-1.43-.59-.52 0-1.04.2-1.43.59L10.3 9.45l-7.72 7.72c-.78.78-.78 2.05 0 2.83L4 21.41c.39.39.9.59 1.41.59.51 0 1.02-.2 1.41-.59l7.78-7.78 2.81-2.81c.8-.78.8-2.07 0-2.86zM5.41 20L4 18.59l7.72-7.72 1.47 1.35L5.41 20z\"/>\n",
              "  </svg>\n",
              "      </button>\n",
              "      \n",
              "  <style>\n",
              "    .colab-df-container {\n",
              "      display:flex;\n",
              "      flex-wrap:wrap;\n",
              "      gap: 12px;\n",
              "    }\n",
              "\n",
              "    .colab-df-convert {\n",
              "      background-color: #E8F0FE;\n",
              "      border: none;\n",
              "      border-radius: 50%;\n",
              "      cursor: pointer;\n",
              "      display: none;\n",
              "      fill: #1967D2;\n",
              "      height: 32px;\n",
              "      padding: 0 0 0 0;\n",
              "      width: 32px;\n",
              "    }\n",
              "\n",
              "    .colab-df-convert:hover {\n",
              "      background-color: #E2EBFA;\n",
              "      box-shadow: 0px 1px 2px rgba(60, 64, 67, 0.3), 0px 1px 3px 1px rgba(60, 64, 67, 0.15);\n",
              "      fill: #174EA6;\n",
              "    }\n",
              "\n",
              "    [theme=dark] .colab-df-convert {\n",
              "      background-color: #3B4455;\n",
              "      fill: #D2E3FC;\n",
              "    }\n",
              "\n",
              "    [theme=dark] .colab-df-convert:hover {\n",
              "      background-color: #434B5C;\n",
              "      box-shadow: 0px 1px 3px 1px rgba(0, 0, 0, 0.15);\n",
              "      filter: drop-shadow(0px 1px 2px rgba(0, 0, 0, 0.3));\n",
              "      fill: #FFFFFF;\n",
              "    }\n",
              "  </style>\n",
              "\n",
              "      <script>\n",
              "        const buttonEl =\n",
              "          document.querySelector('#df-0633b5d4-c846-4c34-a463-2678dca6e309 button.colab-df-convert');\n",
              "        buttonEl.style.display =\n",
              "          google.colab.kernel.accessAllowed ? 'block' : 'none';\n",
              "\n",
              "        async function convertToInteractive(key) {\n",
              "          const element = document.querySelector('#df-0633b5d4-c846-4c34-a463-2678dca6e309');\n",
              "          const dataTable =\n",
              "            await google.colab.kernel.invokeFunction('convertToInteractive',\n",
              "                                                     [key], {});\n",
              "          if (!dataTable) return;\n",
              "\n",
              "          const docLinkHtml = 'Like what you see? Visit the ' +\n",
              "            '<a target=\"_blank\" href=https://colab.research.google.com/notebooks/data_table.ipynb>data table notebook</a>'\n",
              "            + ' to learn more about interactive tables.';\n",
              "          element.innerHTML = '';\n",
              "          dataTable['output_type'] = 'display_data';\n",
              "          await google.colab.output.renderOutput(dataTable, element);\n",
              "          const docLink = document.createElement('div');\n",
              "          docLink.innerHTML = docLinkHtml;\n",
              "          element.appendChild(docLink);\n",
              "        }\n",
              "      </script>\n",
              "    </div>\n",
              "  </div>\n",
              "  "
            ]
          },
          "metadata": {},
          "execution_count": 17
        }
      ],
      "source": [
        "# converting the columns to numeric types\n",
        "numerical_cols = [\"no_of_plays\", \"active_players\", \"wishlist\", 'number_of_reviews', 'backlogs']\n",
        "df = convert_str_num_to_int(df, numerical_cols)\n",
        "df.head(2)"
      ]
    },
    {
      "cell_type": "code",
      "execution_count": 18,
      "metadata": {
        "colab": {
          "base_uri": "https://localhost:8080/"
        },
        "id": "hmNr1WFSbsEU",
        "outputId": "bde38a46-8ef1-46a0-8268-56fdd32312ef"
      },
      "outputs": [
        {
          "output_type": "execute_result",
          "data": {
            "text/plain": [
              "title                 object\n",
              "release_date          object\n",
              "rating               float64\n",
              "number_of_reviews      int64\n",
              "genres                object\n",
              "no_of_plays            int64\n",
              "active_players         int64\n",
              "backlogs               int64\n",
              "wishlist               int64\n",
              "dtype: object"
            ]
          },
          "metadata": {},
          "execution_count": 18
        }
      ],
      "source": [
        "# checking the types\n",
        "df.dtypes"
      ]
    },
    {
      "cell_type": "code",
      "execution_count": 19,
      "metadata": {
        "id": "QCPgbGiqc5jB"
      },
      "outputs": [],
      "source": [
        "# dropping nulls\n",
        "df.dropna(inplace=True)"
      ]
    },
    {
      "cell_type": "code",
      "execution_count": 20,
      "metadata": {
        "colab": {
          "base_uri": "https://localhost:8080/",
          "height": 112
        },
        "id": "q1NPP3WddmMh",
        "outputId": "43869368-01d7-4870-a343-a4b496e66618"
      },
      "outputs": [
        {
          "output_type": "execute_result",
          "data": {
            "text/plain": [
              "        title  release_date  rating  number_of_reviews  \\\n",
              "0  Elden Ring  Feb 25, 2022     4.5               3900   \n",
              "1       Hades  Dec 10, 2019     4.3               2900   \n",
              "\n",
              "                                     genres  no_of_plays  active_players  \\\n",
              "0                      ['Adventure', 'RPG']        17000            3800   \n",
              "1  ['Adventure', 'Brawler', 'Indie', 'RPG']        21000            3200   \n",
              "\n",
              "   backlogs  wishlist  \n",
              "0      4600      4800  \n",
              "1      6300      3600  "
            ],
            "text/html": [
              "\n",
              "  <div id=\"df-39683378-2824-447e-9fc2-e746e6a277b3\">\n",
              "    <div class=\"colab-df-container\">\n",
              "      <div>\n",
              "<style scoped>\n",
              "    .dataframe tbody tr th:only-of-type {\n",
              "        vertical-align: middle;\n",
              "    }\n",
              "\n",
              "    .dataframe tbody tr th {\n",
              "        vertical-align: top;\n",
              "    }\n",
              "\n",
              "    .dataframe thead th {\n",
              "        text-align: right;\n",
              "    }\n",
              "</style>\n",
              "<table border=\"1\" class=\"dataframe\">\n",
              "  <thead>\n",
              "    <tr style=\"text-align: right;\">\n",
              "      <th></th>\n",
              "      <th>title</th>\n",
              "      <th>release_date</th>\n",
              "      <th>rating</th>\n",
              "      <th>number_of_reviews</th>\n",
              "      <th>genres</th>\n",
              "      <th>no_of_plays</th>\n",
              "      <th>active_players</th>\n",
              "      <th>backlogs</th>\n",
              "      <th>wishlist</th>\n",
              "    </tr>\n",
              "  </thead>\n",
              "  <tbody>\n",
              "    <tr>\n",
              "      <th>0</th>\n",
              "      <td>Elden Ring</td>\n",
              "      <td>Feb 25, 2022</td>\n",
              "      <td>4.5</td>\n",
              "      <td>3900</td>\n",
              "      <td>['Adventure', 'RPG']</td>\n",
              "      <td>17000</td>\n",
              "      <td>3800</td>\n",
              "      <td>4600</td>\n",
              "      <td>4800</td>\n",
              "    </tr>\n",
              "    <tr>\n",
              "      <th>1</th>\n",
              "      <td>Hades</td>\n",
              "      <td>Dec 10, 2019</td>\n",
              "      <td>4.3</td>\n",
              "      <td>2900</td>\n",
              "      <td>['Adventure', 'Brawler', 'Indie', 'RPG']</td>\n",
              "      <td>21000</td>\n",
              "      <td>3200</td>\n",
              "      <td>6300</td>\n",
              "      <td>3600</td>\n",
              "    </tr>\n",
              "  </tbody>\n",
              "</table>\n",
              "</div>\n",
              "      <button class=\"colab-df-convert\" onclick=\"convertToInteractive('df-39683378-2824-447e-9fc2-e746e6a277b3')\"\n",
              "              title=\"Convert this dataframe to an interactive table.\"\n",
              "              style=\"display:none;\">\n",
              "        \n",
              "  <svg xmlns=\"http://www.w3.org/2000/svg\" height=\"24px\"viewBox=\"0 0 24 24\"\n",
              "       width=\"24px\">\n",
              "    <path d=\"M0 0h24v24H0V0z\" fill=\"none\"/>\n",
              "    <path d=\"M18.56 5.44l.94 2.06.94-2.06 2.06-.94-2.06-.94-.94-2.06-.94 2.06-2.06.94zm-11 1L8.5 8.5l.94-2.06 2.06-.94-2.06-.94L8.5 2.5l-.94 2.06-2.06.94zm10 10l.94 2.06.94-2.06 2.06-.94-2.06-.94-.94-2.06-.94 2.06-2.06.94z\"/><path d=\"M17.41 7.96l-1.37-1.37c-.4-.4-.92-.59-1.43-.59-.52 0-1.04.2-1.43.59L10.3 9.45l-7.72 7.72c-.78.78-.78 2.05 0 2.83L4 21.41c.39.39.9.59 1.41.59.51 0 1.02-.2 1.41-.59l7.78-7.78 2.81-2.81c.8-.78.8-2.07 0-2.86zM5.41 20L4 18.59l7.72-7.72 1.47 1.35L5.41 20z\"/>\n",
              "  </svg>\n",
              "      </button>\n",
              "      \n",
              "  <style>\n",
              "    .colab-df-container {\n",
              "      display:flex;\n",
              "      flex-wrap:wrap;\n",
              "      gap: 12px;\n",
              "    }\n",
              "\n",
              "    .colab-df-convert {\n",
              "      background-color: #E8F0FE;\n",
              "      border: none;\n",
              "      border-radius: 50%;\n",
              "      cursor: pointer;\n",
              "      display: none;\n",
              "      fill: #1967D2;\n",
              "      height: 32px;\n",
              "      padding: 0 0 0 0;\n",
              "      width: 32px;\n",
              "    }\n",
              "\n",
              "    .colab-df-convert:hover {\n",
              "      background-color: #E2EBFA;\n",
              "      box-shadow: 0px 1px 2px rgba(60, 64, 67, 0.3), 0px 1px 3px 1px rgba(60, 64, 67, 0.15);\n",
              "      fill: #174EA6;\n",
              "    }\n",
              "\n",
              "    [theme=dark] .colab-df-convert {\n",
              "      background-color: #3B4455;\n",
              "      fill: #D2E3FC;\n",
              "    }\n",
              "\n",
              "    [theme=dark] .colab-df-convert:hover {\n",
              "      background-color: #434B5C;\n",
              "      box-shadow: 0px 1px 3px 1px rgba(0, 0, 0, 0.15);\n",
              "      filter: drop-shadow(0px 1px 2px rgba(0, 0, 0, 0.3));\n",
              "      fill: #FFFFFF;\n",
              "    }\n",
              "  </style>\n",
              "\n",
              "      <script>\n",
              "        const buttonEl =\n",
              "          document.querySelector('#df-39683378-2824-447e-9fc2-e746e6a277b3 button.colab-df-convert');\n",
              "        buttonEl.style.display =\n",
              "          google.colab.kernel.accessAllowed ? 'block' : 'none';\n",
              "\n",
              "        async function convertToInteractive(key) {\n",
              "          const element = document.querySelector('#df-39683378-2824-447e-9fc2-e746e6a277b3');\n",
              "          const dataTable =\n",
              "            await google.colab.kernel.invokeFunction('convertToInteractive',\n",
              "                                                     [key], {});\n",
              "          if (!dataTable) return;\n",
              "\n",
              "          const docLinkHtml = 'Like what you see? Visit the ' +\n",
              "            '<a target=\"_blank\" href=https://colab.research.google.com/notebooks/data_table.ipynb>data table notebook</a>'\n",
              "            + ' to learn more about interactive tables.';\n",
              "          element.innerHTML = '';\n",
              "          dataTable['output_type'] = 'display_data';\n",
              "          await google.colab.output.renderOutput(dataTable, element);\n",
              "          const docLink = document.createElement('div');\n",
              "          docLink.innerHTML = docLinkHtml;\n",
              "          element.appendChild(docLink);\n",
              "        }\n",
              "      </script>\n",
              "    </div>\n",
              "  </div>\n",
              "  "
            ]
          },
          "metadata": {},
          "execution_count": 20
        }
      ],
      "source": [
        "df.head(2)"
      ]
    },
    {
      "cell_type": "code",
      "execution_count": 21,
      "metadata": {
        "colab": {
          "base_uri": "https://localhost:8080/",
          "height": 628
        },
        "id": "Tod_mPKpdoMV",
        "outputId": "88c2bcbf-6744-42b3-c28b-b90418b60a08"
      },
      "outputs": [
        {
          "output_type": "stream",
          "name": "stderr",
          "text": [
            "<ipython-input-21-544db7a605b1>:2: FutureWarning: The default value of numeric_only in DataFrame.corr is deprecated. In a future version, it will default to False. Select only valid columns or specify the value of numeric_only to silence this warning.\n",
            "  corr = df.corr()\n"
          ]
        },
        {
          "output_type": "execute_result",
          "data": {
            "text/plain": [
              "<Axes: >"
            ]
          },
          "metadata": {},
          "execution_count": 21
        },
        {
          "output_type": "display_data",
          "data": {
            "text/plain": [
              "<Figure size 640x480 with 2 Axes>"
            ],
            "image/png": "[encoded data removed]"
          },
          "metadata": {}
        }
      ],
      "source": [
        "# calculate correlation between columns\n",
        "corr = df.corr()\n",
        "\n",
        "# generate a heatmap visualization of the correlation matrix\n",
        "sns.heatmap(corr, xticklabels=corr.columns, yticklabels=corr.columns, cmap='RdBu', annot=True, square=True)"
      ]
    },
    {
      "cell_type": "markdown",
      "metadata": {
        "id": "BfwaDlTpl8I8"
      },
      "source": [
        "Here, it seems we have somewhat strong correlation b/w backlogs and wishlist, number of reviews and wishlist, number of reviews and backlogs."
      ]
    },
    {
      "cell_type": "code",
      "execution_count": null,
      "metadata": {
        "id": "RK-Ekx4ze7FF"
      },
      "outputs": [],
      "source": [
        "# we can save dataframe for visualization with dashboards\n",
        "df.to_csv('/content/drive/My Drive/popular_games.csv')"
      ]
    },
    {
      "cell_type": "code",
      "execution_count": 22,
      "metadata": {
        "colab": {
          "base_uri": "https://localhost:8080/"
        },
        "id": "18ljltntAzyD",
        "outputId": "e4379b02-2ffc-4613-e489-b602a0d15880"
      },
      "outputs": [
        {
          "output_type": "stream",
          "name": "stderr",
          "text": [
            "<ipython-input-22-5af118b67b60>:2: FutureWarning: The default value of regex will change from True to False in a future version.\n",
            "  df[\"genres\"] = df[\"genres\"].str.replace('[\\[\\]\\'\\\"]', \"\")\n"
          ]
        },
        {
          "output_type": "execute_result",
          "data": {
            "text/plain": [
              "Adventure    1005\n",
              " RPG          422\n",
              " Platform     282\n",
              " Shooter      270\n",
              " Indie        229\n",
              "dtype: int64"
            ]
          },
          "metadata": {},
          "execution_count": 22
        }
      ],
      "source": [
        "# replacing '[', ']', and \"'\" characters in the genres column with nothing\n",
        "df[\"genres\"] = df[\"genres\"].str.replace('[\\[\\]\\'\\\"]', \"\")\n",
        "\n",
        "# creating a binary matrix of genre values for each game\n",
        "genres = df[\"genres\"].str.get_dummies(\",\")\n",
        "\n",
        "# summing the occurrences of each genre across all games\n",
        "popularity = genres.sum().sort_values(ascending=False)\n",
        "\n",
        "# printing the popularity of each genre\n",
        "popularity.head()"
      ]
    },
    {
      "cell_type": "code",
      "execution_count": 23,
      "metadata": {
        "id": "Zd37A5NG0569"
      },
      "outputs": [],
      "source": [
        "# converting the popularity to a dataframe\n",
        "popularity_df = popularity.to_frame(name=\"popularity\")\n",
        "\n",
        "# merging the popularity data with the game data\n",
        "df_pop = df.merge(popularity_df, left_on=\"genres\", right_index=True)\n",
        "\n",
        "# grouping the data by genre\n",
        "grouped = df_pop.groupby(\"genres\")"
      ]
    },
    {
      "cell_type": "code",
      "execution_count": 24,
      "metadata": {
        "colab": {
          "base_uri": "https://localhost:8080/",
          "height": 206
        },
        "id": "nZohetvg08hO",
        "outputId": "8e410973-b3de-4759-a6a2-4eac4407986e"
      },
      "outputs": [
        {
          "output_type": "execute_result",
          "data": {
            "text/plain": [
              "              title  release_date  rating  number_of_reviews   genres  \\\n",
              "45             Doom  May 12, 2016     4.0               1800  Shooter   \n",
              "53     Doom Eternal  Mar 19, 2020     4.2               1900  Shooter   \n",
              "57      Overwatch 2  Oct 04, 2022     2.7                491  Shooter   \n",
              "58  Resident Evil 4  Jan 11, 2005     4.3               2300  Shooter   \n",
              "83      Half-Life 2  Nov 16, 2004     4.2               1700  Shooter   \n",
              "\n",
              "    no_of_plays  active_players  backlogs  wishlist  popularity  \n",
              "45        18000             541      4000      1400          81  \n",
              "53        12000             738      4600      2400          81  \n",
              "57         6600            1100       292       171          81  \n",
              "58        14000             360      3000      1200          81  \n",
              "83        15000             257      3500      1000          81  "
            ],
            "text/html": [
              "\n",
              "  <div id=\"df-be9e6659-aa9c-4ec9-9715-2158cb98a3e9\">\n",
              "    <div class=\"colab-df-container\">\n",
              "      <div>\n",
              "<style scoped>\n",
              "    .dataframe tbody tr th:only-of-type {\n",
              "        vertical-align: middle;\n",
              "    }\n",
              "\n",
              "    .dataframe tbody tr th {\n",
              "        vertical-align: top;\n",
              "    }\n",
              "\n",
              "    .dataframe thead th {\n",
              "        text-align: right;\n",
              "    }\n",
              "</style>\n",
              "<table border=\"1\" class=\"dataframe\">\n",
              "  <thead>\n",
              "    <tr style=\"text-align: right;\">\n",
              "      <th></th>\n",
              "      <th>title</th>\n",
              "      <th>release_date</th>\n",
              "      <th>rating</th>\n",
              "      <th>number_of_reviews</th>\n",
              "      <th>genres</th>\n",
              "      <th>no_of_plays</th>\n",
              "      <th>active_players</th>\n",
              "      <th>backlogs</th>\n",
              "      <th>wishlist</th>\n",
              "      <th>popularity</th>\n",
              "    </tr>\n",
              "  </thead>\n",
              "  <tbody>\n",
              "    <tr>\n",
              "      <th>45</th>\n",
              "      <td>Doom</td>\n",
              "      <td>May 12, 2016</td>\n",
              "      <td>4.0</td>\n",
              "      <td>1800</td>\n",
              "      <td>Shooter</td>\n",
              "      <td>18000</td>\n",
              "      <td>541</td>\n",
              "      <td>4000</td>\n",
              "      <td>1400</td>\n",
              "      <td>81</td>\n",
              "    </tr>\n",
              "    <tr>\n",
              "      <th>53</th>\n",
              "      <td>Doom Eternal</td>\n",
              "      <td>Mar 19, 2020</td>\n",
              "      <td>4.2</td>\n",
              "      <td>1900</td>\n",
              "      <td>Shooter</td>\n",
              "      <td>12000</td>\n",
              "      <td>738</td>\n",
              "      <td>4600</td>\n",
              "      <td>2400</td>\n",
              "      <td>81</td>\n",
              "    </tr>\n",
              "    <tr>\n",
              "      <th>57</th>\n",
              "      <td>Overwatch 2</td>\n",
              "      <td>Oct 04, 2022</td>\n",
              "      <td>2.7</td>\n",
              "      <td>491</td>\n",
              "      <td>Shooter</td>\n",
              "      <td>6600</td>\n",
              "      <td>1100</td>\n",
              "      <td>292</td>\n",
              "      <td>171</td>\n",
              "      <td>81</td>\n",
              "    </tr>\n",
              "    <tr>\n",
              "      <th>58</th>\n",
              "      <td>Resident Evil 4</td>\n",
              "      <td>Jan 11, 2005</td>\n",
              "      <td>4.3</td>\n",
              "      <td>2300</td>\n",
              "      <td>Shooter</td>\n",
              "      <td>14000</td>\n",
              "      <td>360</td>\n",
              "      <td>3000</td>\n",
              "      <td>1200</td>\n",
              "      <td>81</td>\n",
              "    </tr>\n",
              "    <tr>\n",
              "      <th>83</th>\n",
              "      <td>Half-Life 2</td>\n",
              "      <td>Nov 16, 2004</td>\n",
              "      <td>4.2</td>\n",
              "      <td>1700</td>\n",
              "      <td>Shooter</td>\n",
              "      <td>15000</td>\n",
              "      <td>257</td>\n",
              "      <td>3500</td>\n",
              "      <td>1000</td>\n",
              "      <td>81</td>\n",
              "    </tr>\n",
              "  </tbody>\n",
              "</table>\n",
              "</div>\n",
              "      <button class=\"colab-df-convert\" onclick=\"convertToInteractive('df-be9e6659-aa9c-4ec9-9715-2158cb98a3e9')\"\n",
              "              title=\"Convert this dataframe to an interactive table.\"\n",
              "              style=\"display:none;\">\n",
              "        \n",
              "  <svg xmlns=\"http://www.w3.org/2000/svg\" height=\"24px\"viewBox=\"0 0 24 24\"\n",
              "       width=\"24px\">\n",
              "    <path d=\"M0 0h24v24H0V0z\" fill=\"none\"/>\n",
              "    <path d=\"M18.56 5.44l.94 2.06.94-2.06 2.06-.94-2.06-.94-.94-2.06-.94 2.06-2.06.94zm-11 1L8.5 8.5l.94-2.06 2.06-.94-2.06-.94L8.5 2.5l-.94 2.06-2.06.94zm10 10l.94 2.06.94-2.06 2.06-.94-2.06-.94-.94-2.06-.94 2.06-2.06.94z\"/><path d=\"M17.41 7.96l-1.37-1.37c-.4-.4-.92-.59-1.43-.59-.52 0-1.04.2-1.43.59L10.3 9.45l-7.72 7.72c-.78.78-.78 2.05 0 2.83L4 21.41c.39.39.9.59 1.41.59.51 0 1.02-.2 1.41-.59l7.78-7.78 2.81-2.81c.8-.78.8-2.07 0-2.86zM5.41 20L4 18.59l7.72-7.72 1.47 1.35L5.41 20z\"/>\n",
              "  </svg>\n",
              "      </button>\n",
              "      \n",
              "  <style>\n",
              "    .colab-df-container {\n",
              "      display:flex;\n",
              "      flex-wrap:wrap;\n",
              "      gap: 12px;\n",
              "    }\n",
              "\n",
              "    .colab-df-convert {\n",
              "      background-color: #E8F0FE;\n",
              "      border: none;\n",
              "      border-radius: 50%;\n",
              "      cursor: pointer;\n",
              "      display: none;\n",
              "      fill: #1967D2;\n",
              "      height: 32px;\n",
              "      padding: 0 0 0 0;\n",
              "      width: 32px;\n",
              "    }\n",
              "\n",
              "    .colab-df-convert:hover {\n",
              "      background-color: #E2EBFA;\n",
              "      box-shadow: 0px 1px 2px rgba(60, 64, 67, 0.3), 0px 1px 3px 1px rgba(60, 64, 67, 0.15);\n",
              "      fill: #174EA6;\n",
              "    }\n",
              "\n",
              "    [theme=dark] .colab-df-convert {\n",
              "      background-color: #3B4455;\n",
              "      fill: #D2E3FC;\n",
              "    }\n",
              "\n",
              "    [theme=dark] .colab-df-convert:hover {\n",
              "      background-color: #434B5C;\n",
              "      box-shadow: 0px 1px 3px 1px rgba(0, 0, 0, 0.15);\n",
              "      filter: drop-shadow(0px 1px 2px rgba(0, 0, 0, 0.3));\n",
              "      fill: #FFFFFF;\n",
              "    }\n",
              "  </style>\n",
              "\n",
              "      <script>\n",
              "        const buttonEl =\n",
              "          document.querySelector('#df-be9e6659-aa9c-4ec9-9715-2158cb98a3e9 button.colab-df-convert');\n",
              "        buttonEl.style.display =\n",
              "          google.colab.kernel.accessAllowed ? 'block' : 'none';\n",
              "\n",
              "        async function convertToInteractive(key) {\n",
              "          const element = document.querySelector('#df-be9e6659-aa9c-4ec9-9715-2158cb98a3e9');\n",
              "          const dataTable =\n",
              "            await google.colab.kernel.invokeFunction('convertToInteractive',\n",
              "                                                     [key], {});\n",
              "          if (!dataTable) return;\n",
              "\n",
              "          const docLinkHtml = 'Like what you see? Visit the ' +\n",
              "            '<a target=\"_blank\" href=https://colab.research.google.com/notebooks/data_table.ipynb>data table notebook</a>'\n",
              "            + ' to learn more about interactive tables.';\n",
              "          element.innerHTML = '';\n",
              "          dataTable['output_type'] = 'display_data';\n",
              "          await google.colab.output.renderOutput(dataTable, element);\n",
              "          const docLink = document.createElement('div');\n",
              "          docLink.innerHTML = docLinkHtml;\n",
              "          element.appendChild(docLink);\n",
              "        }\n",
              "      </script>\n",
              "    </div>\n",
              "  </div>\n",
              "  "
            ]
          },
          "metadata": {},
          "execution_count": 24
        }
      ],
      "source": [
        "df_pop.head(5)"
      ]
    },
    {
      "cell_type": "code",
      "execution_count": 25,
      "metadata": {
        "id": "AZ9fGLoLztAk"
      },
      "outputs": [],
      "source": [
        "# creating a csv file for genres for visualization\n",
        "df_pop.to_csv('/content/drive/My Drive/genre_popularity.csv')"
      ]
    },
    {
      "cell_type": "code",
      "execution_count": 26,
      "metadata": {
        "id": "LLvjIfXm0tVr"
      },
      "outputs": [],
      "source": [
        "# which game is the most popular for each genre\n",
        "def get_most_pop_game(group: pd.DataFrame) -> pd.Series:\n",
        "\n",
        "   # getting the row with the highest popularity value\n",
        "    most_popular_game = group.loc[group[\"popularity\"].idxmax()]\n",
        "\n",
        "    # returning the title of the most popular game\n",
        "    return most_popular_game[\"title\"]\n",
        "\n",
        "# applying the function to the grouped dataframe and saving the result (series) into a variable\n",
        "most_popular_game = grouped.apply(get_most_pop_game)"
      ]
    },
    {
      "cell_type": "code",
      "execution_count": 27,
      "metadata": {
        "colab": {
          "base_uri": "https://localhost:8080/",
          "height": 551
        },
        "id": "lSBOioaE1fZL",
        "outputId": "be903254-a116-4814-9ee8-e216c16c173e"
      },
      "outputs": [
        {
          "output_type": "execute_result",
          "data": {
            "text/plain": [
              "           Game Genre                         Most Popular Game\n",
              "0           Adventure       Metal Gear Solid 2: Sons of Liberty\n",
              "1              Arcade                               Chrome Dino\n",
              "2             Brawler                             Devil May Cry\n",
              "3   Card & Board Game                    Mario Party Superstars\n",
              "4            Fighting                               MultiVersus\n",
              "5               Indie                 Friday the 13th: The Game\n",
              "6                MOBA                             Pokémon Unite\n",
              "7               Music                      Friday Night Funkin'\n",
              "8            Platform                       Super Mario Bros. 3\n",
              "9              Puzzle                                    Tetris\n",
              "10                RPG  Xenoblade Chronicles: Definitive Edition\n",
              "11             Racing                            Mario Kart Wii\n",
              "12            Shooter                                      Doom\n",
              "13          Simulator                           Animal Crossing\n",
              "14              Sport             Mario Strikers: Battle League\n",
              "15       Visual Novel                               Saya no Uta"
            ],
            "text/html": [
              "\n",
              "  <div id=\"df-4c9034b0-eb43-42d2-8078-f03f8a9cae90\">\n",
              "    <div class=\"colab-df-container\">\n",
              "      <div>\n",
              "<style scoped>\n",
              "    .dataframe tbody tr th:only-of-type {\n",
              "        vertical-align: middle;\n",
              "    }\n",
              "\n",
              "    .dataframe tbody tr th {\n",
              "        vertical-align: top;\n",
              "    }\n",
              "\n",
              "    .dataframe thead th {\n",
              "        text-align: right;\n",
              "    }\n",
              "</style>\n",
              "<table border=\"1\" class=\"dataframe\">\n",
              "  <thead>\n",
              "    <tr style=\"text-align: right;\">\n",
              "      <th></th>\n",
              "      <th>Game Genre</th>\n",
              "      <th>Most Popular Game</th>\n",
              "    </tr>\n",
              "  </thead>\n",
              "  <tbody>\n",
              "    <tr>\n",
              "      <th>0</th>\n",
              "      <td>Adventure</td>\n",
              "      <td>Metal Gear Solid 2: Sons of Liberty</td>\n",
              "    </tr>\n",
              "    <tr>\n",
              "      <th>1</th>\n",
              "      <td>Arcade</td>\n",
              "      <td>Chrome Dino</td>\n",
              "    </tr>\n",
              "    <tr>\n",
              "      <th>2</th>\n",
              "      <td>Brawler</td>\n",
              "      <td>Devil May Cry</td>\n",
              "    </tr>\n",
              "    <tr>\n",
              "      <th>3</th>\n",
              "      <td>Card &amp; Board Game</td>\n",
              "      <td>Mario Party Superstars</td>\n",
              "    </tr>\n",
              "    <tr>\n",
              "      <th>4</th>\n",
              "      <td>Fighting</td>\n",
              "      <td>MultiVersus</td>\n",
              "    </tr>\n",
              "    <tr>\n",
              "      <th>5</th>\n",
              "      <td>Indie</td>\n",
              "      <td>Friday the 13th: The Game</td>\n",
              "    </tr>\n",
              "    <tr>\n",
              "      <th>6</th>\n",
              "      <td>MOBA</td>\n",
              "      <td>Pokémon Unite</td>\n",
              "    </tr>\n",
              "    <tr>\n",
              "      <th>7</th>\n",
              "      <td>Music</td>\n",
              "      <td>Friday Night Funkin'</td>\n",
              "    </tr>\n",
              "    <tr>\n",
              "      <th>8</th>\n",
              "      <td>Platform</td>\n",
              "      <td>Super Mario Bros. 3</td>\n",
              "    </tr>\n",
              "    <tr>\n",
              "      <th>9</th>\n",
              "      <td>Puzzle</td>\n",
              "      <td>Tetris</td>\n",
              "    </tr>\n",
              "    <tr>\n",
              "      <th>10</th>\n",
              "      <td>RPG</td>\n",
              "      <td>Xenoblade Chronicles: Definitive Edition</td>\n",
              "    </tr>\n",
              "    <tr>\n",
              "      <th>11</th>\n",
              "      <td>Racing</td>\n",
              "      <td>Mario Kart Wii</td>\n",
              "    </tr>\n",
              "    <tr>\n",
              "      <th>12</th>\n",
              "      <td>Shooter</td>\n",
              "      <td>Doom</td>\n",
              "    </tr>\n",
              "    <tr>\n",
              "      <th>13</th>\n",
              "      <td>Simulator</td>\n",
              "      <td>Animal Crossing</td>\n",
              "    </tr>\n",
              "    <tr>\n",
              "      <th>14</th>\n",
              "      <td>Sport</td>\n",
              "      <td>Mario Strikers: Battle League</td>\n",
              "    </tr>\n",
              "    <tr>\n",
              "      <th>15</th>\n",
              "      <td>Visual Novel</td>\n",
              "      <td>Saya no Uta</td>\n",
              "    </tr>\n",
              "  </tbody>\n",
              "</table>\n",
              "</div>\n",
              "      <button class=\"colab-df-convert\" onclick=\"convertToInteractive('df-4c9034b0-eb43-42d2-8078-f03f8a9cae90')\"\n",
              "              title=\"Convert this dataframe to an interactive table.\"\n",
              "              style=\"display:none;\">\n",
              "        \n",
              "  <svg xmlns=\"http://www.w3.org/2000/svg\" height=\"24px\"viewBox=\"0 0 24 24\"\n",
              "       width=\"24px\">\n",
              "    <path d=\"M0 0h24v24H0V0z\" fill=\"none\"/>\n",
              "    <path d=\"M18.56 5.44l.94 2.06.94-2.06 2.06-.94-2.06-.94-.94-2.06-.94 2.06-2.06.94zm-11 1L8.5 8.5l.94-2.06 2.06-.94-2.06-.94L8.5 2.5l-.94 2.06-2.06.94zm10 10l.94 2.06.94-2.06 2.06-.94-2.06-.94-.94-2.06-.94 2.06-2.06.94z\"/><path d=\"M17.41 7.96l-1.37-1.37c-.4-.4-.92-.59-1.43-.59-.52 0-1.04.2-1.43.59L10.3 9.45l-7.72 7.72c-.78.78-.78 2.05 0 2.83L4 21.41c.39.39.9.59 1.41.59.51 0 1.02-.2 1.41-.59l7.78-7.78 2.81-2.81c.8-.78.8-2.07 0-2.86zM5.41 20L4 18.59l7.72-7.72 1.47 1.35L5.41 20z\"/>\n",
              "  </svg>\n",
              "      </button>\n",
              "      \n",
              "  <style>\n",
              "    .colab-df-container {\n",
              "      display:flex;\n",
              "      flex-wrap:wrap;\n",
              "      gap: 12px;\n",
              "    }\n",
              "\n",
              "    .colab-df-convert {\n",
              "      background-color: #E8F0FE;\n",
              "      border: none;\n",
              "      border-radius: 50%;\n",
              "      cursor: pointer;\n",
              "      display: none;\n",
              "      fill: #1967D2;\n",
              "      height: 32px;\n",
              "      padding: 0 0 0 0;\n",
              "      width: 32px;\n",
              "    }\n",
              "\n",
              "    .colab-df-convert:hover {\n",
              "      background-color: #E2EBFA;\n",
              "      box-shadow: 0px 1px 2px rgba(60, 64, 67, 0.3), 0px 1px 3px 1px rgba(60, 64, 67, 0.15);\n",
              "      fill: #174EA6;\n",
              "    }\n",
              "\n",
              "    [theme=dark] .colab-df-convert {\n",
              "      background-color: #3B4455;\n",
              "      fill: #D2E3FC;\n",
              "    }\n",
              "\n",
              "    [theme=dark] .colab-df-convert:hover {\n",
              "      background-color: #434B5C;\n",
              "      box-shadow: 0px 1px 3px 1px rgba(0, 0, 0, 0.15);\n",
              "      filter: drop-shadow(0px 1px 2px rgba(0, 0, 0, 0.3));\n",
              "      fill: #FFFFFF;\n",
              "    }\n",
              "  </style>\n",
              "\n",
              "      <script>\n",
              "        const buttonEl =\n",
              "          document.querySelector('#df-4c9034b0-eb43-42d2-8078-f03f8a9cae90 button.colab-df-convert');\n",
              "        buttonEl.style.display =\n",
              "          google.colab.kernel.accessAllowed ? 'block' : 'none';\n",
              "\n",
              "        async function convertToInteractive(key) {\n",
              "          const element = document.querySelector('#df-4c9034b0-eb43-42d2-8078-f03f8a9cae90');\n",
              "          const dataTable =\n",
              "            await google.colab.kernel.invokeFunction('convertToInteractive',\n",
              "                                                     [key], {});\n",
              "          if (!dataTable) return;\n",
              "\n",
              "          const docLinkHtml = 'Like what you see? Visit the ' +\n",
              "            '<a target=\"_blank\" href=https://colab.research.google.com/notebooks/data_table.ipynb>data table notebook</a>'\n",
              "            + ' to learn more about interactive tables.';\n",
              "          element.innerHTML = '';\n",
              "          dataTable['output_type'] = 'display_data';\n",
              "          await google.colab.output.renderOutput(dataTable, element);\n",
              "          const docLink = document.createElement('div');\n",
              "          docLink.innerHTML = docLinkHtml;\n",
              "          element.appendChild(docLink);\n",
              "        }\n",
              "      </script>\n",
              "    </div>\n",
              "  </div>\n",
              "  "
            ]
          },
          "metadata": {},
          "execution_count": 27
        }
      ],
      "source": [
        "# converting the series into a dataframe, reseting the index and rename the columns\n",
        "# to present the most popular game in each video game genre.\n",
        "most_popular_game.to_frame().reset_index() \\\n",
        "                 .rename({\"genres\":\"Game Genre\", 0:\"Most Popular Game\"}, axis=1)"
      ]
    },
    {
      "cell_type": "markdown",
      "metadata": {
        "id": "YjzXt3R61nUN"
      },
      "source": [
        "### Models"
      ]
    },
    {
      "cell_type": "code",
      "execution_count": 28,
      "metadata": {
        "id": "ENqICeJe2Dg4"
      },
      "outputs": [],
      "source": [
        "# let's first take all the features we have\n",
        "features = ['number_of_reviews', 'no_of_plays', 'active_players', 'backlogs', 'wishlist', 'popularity']\n",
        "x = df_pop.loc[:, features]\n",
        "y = df_pop.loc[:, ['rating']]"
      ]
    },
    {
      "cell_type": "code",
      "execution_count": 29,
      "metadata": {
        "id": "85HHPkc81kbF"
      },
      "outputs": [],
      "source": [
        "x_train, x_test, y_train, y_test = train_test_split(x, y, random_state=0, train_size=0.75)"
      ]
    },
    {
      "cell_type": "markdown",
      "metadata": {
        "id": "vp5Rypj4mpb-"
      },
      "source": [
        "#### Random Forest"
      ]
    },
    {
      "cell_type": "code",
      "execution_count": null,
      "metadata": {
        "id": "ANzhGjgv31ji"
      },
      "outputs": [],
      "source": [
        "# define the parameter grid for random search\n",
        "param_grid = {\n",
        "    'n_estimators': [10, 50, 100, 200],\n",
        "    'max_depth': [None, 5, 10, 20],\n",
        "    'min_samples_split': [2, 5, 10],\n",
        "    'min_samples_leaf': [1, 2, 4],\n",
        "    'max_features': ['auto', 'sqrt', 'log2'],\n",
        "    'bootstrap': [True, False]\n",
        "}\n",
        "\n",
        "# create the RandomForestRegressor model\n",
        "model = RandomForestRegressor(random_state=0)\n",
        "\n",
        "# perform random search with error_score='raise'\n",
        "random_search = RandomizedSearchCV(estimator=model, param_distributions=param_grid,\n",
        "                                   scoring='neg_mean_squared_error', cv=5,\n",
        "                                   random_state=0, n_iter=10, error_score='raise')\n",
        "\n",
        "# fit the random search to the training data\n",
        "random_search.fit(x_train, y_train)\n",
        "\n",
        "# get the best model from the random search\n",
        "best_model = random_search.best_estimator_\n",
        "\n",
        "# make predictions on the test data\n",
        "y_pred = best_model.predict(x_test)\n",
        "\n",
        "# evaluate the model using mean squared error\n",
        "mse = mean_squared_error(y_test, y_pred)\n",
        "print(\"Mean Squared Error: \", mse)\n",
        "r2 = r2_score(y_test, y_pred)\n",
        "print(\"R2 Score: \", r2)"
      ]
    },
    {
      "cell_type": "markdown",
      "metadata": {
        "id": "Z-keA6a96QL2"
      },
      "source": [
        "**Random Forest with Random Search**\n",
        "\n",
        "Mean Squared Error:  0.18988211575937827\n",
        "\n",
        "R2 Score:  0.3204534030420525"
      ]
    },
    {
      "cell_type": "markdown",
      "metadata": {
        "id": "HZc1cCuQm2iC"
      },
      "source": [
        "#### XGBoost"
      ]
    },
    {
      "cell_type": "code",
      "execution_count": null,
      "metadata": {
        "colab": {
          "base_uri": "https://localhost:8080/"
        },
        "id": "_0rzwqk261D8",
        "outputId": "1e2a8198-6ad3-46e8-a6e2-e0781f20eade"
      },
      "outputs": [
        {
          "name": "stderr",
          "output_type": "stream",
          "text": [
            "\rPredicting:   0%|          | 0/100 [00:00<?, ?it/s]"
          ]
        },
        {
          "name": "stdout",
          "output_type": "stream",
          "text": [
            "R2 Score:  0.2948723189187711\n",
            "Mean Absolute Error:  0.3206812422040482\n",
            "Root Mean Squared Error:  0.44388073055632177\n"
          ]
        }
      ],
      "source": [
        "# define the parameter grid for random search\n",
        "param_grid = {\n",
        "    'n_estimators': randint(100, 1000),\n",
        "    'max_depth': randint(1, 10),\n",
        "    'learning_rate': uniform(0.01, 0.5),\n",
        "    'subsample': uniform(0.5, 0.5),\n",
        "    'colsample_bytree': uniform(0.5, 0.5),\n",
        "    'gamma': uniform(0, 0.5)\n",
        "}\n",
        "\n",
        "# create the XGBoost regressor\n",
        "model = XGBRegressor(objective='reg:squarederror')\n",
        "\n",
        "# perform random search\n",
        "random_search = RandomizedSearchCV(estimator=model, param_distributions=param_grid,\n",
        "                                   scoring='neg_mean_squared_error', cv=5,\n",
        "                                   random_state=0, n_iter=10, error_score='raise')\n",
        "\n",
        "# fit the random search to the training data\n",
        "random_search.fit(x_train, y_train)\n",
        "\n",
        "# get the best model from random search\n",
        "best_model = random_search.best_estimator_\n",
        "\n",
        "# make predictions on the test data\n",
        "y_pred = best_model.predict(x_test)\n",
        "\n",
        "# evaluate the model using R2 score, MAE, and RMSE\n",
        "r2 = r2_score(y_test, y_pred)\n",
        "mae = mean_absolute_error(y_test, y_pred)\n",
        "rmse = mean_squared_error(y_test, y_pred, squared=False)\n",
        "print(\"R2 Score: \", r2)\n",
        "print(\"Mean Absolute Error: \", mae)\n",
        "print(\"Root Mean Squared Error: \", rmse)"
      ]
    },
    {
      "cell_type": "markdown",
      "metadata": {
        "id": "W_jmfZ_qaZNU"
      },
      "source": [
        "**XGBoost**\n",
        "\n",
        "R2 Score:  0.2948723189187711\n",
        "\n",
        "Mean Absolute Error:  0.3206812422040482\n",
        "\n",
        "Root Mean Squared Error:  0.44388073055632177"
      ]
    },
    {
      "cell_type": "markdown",
      "metadata": {
        "id": "PMsLI082feSG"
      },
      "source": [
        "## Change the model\n",
        "\n",
        "As we have low values for our models, we can try to lower the number of features and take only those meaningful for our target variable."
      ]
    },
    {
      "cell_type": "code",
      "execution_count": 31,
      "metadata": {
        "colab": {
          "base_uri": "https://localhost:8080/",
          "height": 628
        },
        "id": "Ga0GB4XpavL6",
        "outputId": "ec7c6a7c-6cb1-4918-bd4c-d6f7d15be6fb"
      },
      "outputs": [
        {
          "output_type": "stream",
          "name": "stderr",
          "text": [
            "<ipython-input-31-495e99c97719>:2: FutureWarning: The default value of numeric_only in DataFrame.corr is deprecated. In a future version, it will default to False. Select only valid columns or specify the value of numeric_only to silence this warning.\n",
            "  corr = df_pop.corr()\n"
          ]
        },
        {
          "output_type": "execute_result",
          "data": {
            "text/plain": [
              "<Axes: >"
            ]
          },
          "metadata": {},
          "execution_count": 31
        },
        {
          "output_type": "display_data",
          "data": {
            "text/plain": [
              "<Figure size 640x480 with 2 Axes>"
            ],
            "image/png": "[encoded data removed]"
          },
          "metadata": {}
        }
      ],
      "source": [
        "# calculate correlation between columns\n",
        "corr = df_pop.corr()\n",
        "\n",
        "# generate a heatmap visualization of the correlation matrix\n",
        "sns.heatmap(corr, xticklabels=corr.columns, yticklabels=corr.columns, cmap='RdBu', annot=True, square=True)"
      ]
    },
    {
      "cell_type": "code",
      "execution_count": 32,
      "metadata": {
        "colab": {
          "base_uri": "https://localhost:8080/",
          "height": 112
        },
        "id": "XLChc2Oqbr7v",
        "outputId": "01ac8a41-8815-448d-f766-f2c79b1d59f1"
      },
      "outputs": [
        {
          "output_type": "execute_result",
          "data": {
            "text/plain": [
              "           title  release_date  rating  number_of_reviews   genres  \\\n",
              "45          Doom  May 12, 2016     4.0               1800  Shooter   \n",
              "53  Doom Eternal  Mar 19, 2020     4.2               1900  Shooter   \n",
              "\n",
              "    no_of_plays  active_players  backlogs  wishlist  popularity  \n",
              "45        18000             541      4000      1400          81  \n",
              "53        12000             738      4600      2400          81  "
            ],
            "text/html": [
              "\n",
              "  <div id=\"df-129c8ed6-c457-4651-bcd4-6711a7d7fdb6\">\n",
              "    <div class=\"colab-df-container\">\n",
              "      <div>\n",
              "<style scoped>\n",
              "    .dataframe tbody tr th:only-of-type {\n",
              "        vertical-align: middle;\n",
              "    }\n",
              "\n",
              "    .dataframe tbody tr th {\n",
              "        vertical-align: top;\n",
              "    }\n",
              "\n",
              "    .dataframe thead th {\n",
              "        text-align: right;\n",
              "    }\n",
              "</style>\n",
              "<table border=\"1\" class=\"dataframe\">\n",
              "  <thead>\n",
              "    <tr style=\"text-align: right;\">\n",
              "      <th></th>\n",
              "      <th>title</th>\n",
              "      <th>release_date</th>\n",
              "      <th>rating</th>\n",
              "      <th>number_of_reviews</th>\n",
              "      <th>genres</th>\n",
              "      <th>no_of_plays</th>\n",
              "      <th>active_players</th>\n",
              "      <th>backlogs</th>\n",
              "      <th>wishlist</th>\n",
              "      <th>popularity</th>\n",
              "    </tr>\n",
              "  </thead>\n",
              "  <tbody>\n",
              "    <tr>\n",
              "      <th>45</th>\n",
              "      <td>Doom</td>\n",
              "      <td>May 12, 2016</td>\n",
              "      <td>4.0</td>\n",
              "      <td>1800</td>\n",
              "      <td>Shooter</td>\n",
              "      <td>18000</td>\n",
              "      <td>541</td>\n",
              "      <td>4000</td>\n",
              "      <td>1400</td>\n",
              "      <td>81</td>\n",
              "    </tr>\n",
              "    <tr>\n",
              "      <th>53</th>\n",
              "      <td>Doom Eternal</td>\n",
              "      <td>Mar 19, 2020</td>\n",
              "      <td>4.2</td>\n",
              "      <td>1900</td>\n",
              "      <td>Shooter</td>\n",
              "      <td>12000</td>\n",
              "      <td>738</td>\n",
              "      <td>4600</td>\n",
              "      <td>2400</td>\n",
              "      <td>81</td>\n",
              "    </tr>\n",
              "  </tbody>\n",
              "</table>\n",
              "</div>\n",
              "      <button class=\"colab-df-convert\" onclick=\"convertToInteractive('df-129c8ed6-c457-4651-bcd4-6711a7d7fdb6')\"\n",
              "              title=\"Convert this dataframe to an interactive table.\"\n",
              "              style=\"display:none;\">\n",
              "        \n",
              "  <svg xmlns=\"http://www.w3.org/2000/svg\" height=\"24px\"viewBox=\"0 0 24 24\"\n",
              "       width=\"24px\">\n",
              "    <path d=\"M0 0h24v24H0V0z\" fill=\"none\"/>\n",
              "    <path d=\"M18.56 5.44l.94 2.06.94-2.06 2.06-.94-2.06-.94-.94-2.06-.94 2.06-2.06.94zm-11 1L8.5 8.5l.94-2.06 2.06-.94-2.06-.94L8.5 2.5l-.94 2.06-2.06.94zm10 10l.94 2.06.94-2.06 2.06-.94-2.06-.94-.94-2.06-.94 2.06-2.06.94z\"/><path d=\"M17.41 7.96l-1.37-1.37c-.4-.4-.92-.59-1.43-.59-.52 0-1.04.2-1.43.59L10.3 9.45l-7.72 7.72c-.78.78-.78 2.05 0 2.83L4 21.41c.39.39.9.59 1.41.59.51 0 1.02-.2 1.41-.59l7.78-7.78 2.81-2.81c.8-.78.8-2.07 0-2.86zM5.41 20L4 18.59l7.72-7.72 1.47 1.35L5.41 20z\"/>\n",
              "  </svg>\n",
              "      </button>\n",
              "      \n",
              "  <style>\n",
              "    .colab-df-container {\n",
              "      display:flex;\n",
              "      flex-wrap:wrap;\n",
              "      gap: 12px;\n",
              "    }\n",
              "\n",
              "    .colab-df-convert {\n",
              "      background-color: #E8F0FE;\n",
              "      border: none;\n",
              "      border-radius: 50%;\n",
              "      cursor: pointer;\n",
              "      display: none;\n",
              "      fill: #1967D2;\n",
              "      height: 32px;\n",
              "      padding: 0 0 0 0;\n",
              "      width: 32px;\n",
              "    }\n",
              "\n",
              "    .colab-df-convert:hover {\n",
              "      background-color: #E2EBFA;\n",
              "      box-shadow: 0px 1px 2px rgba(60, 64, 67, 0.3), 0px 1px 3px 1px rgba(60, 64, 67, 0.15);\n",
              "      fill: #174EA6;\n",
              "    }\n",
              "\n",
              "    [theme=dark] .colab-df-convert {\n",
              "      background-color: #3B4455;\n",
              "      fill: #D2E3FC;\n",
              "    }\n",
              "\n",
              "    [theme=dark] .colab-df-convert:hover {\n",
              "      background-color: #434B5C;\n",
              "      box-shadow: 0px 1px 3px 1px rgba(0, 0, 0, 0.15);\n",
              "      filter: drop-shadow(0px 1px 2px rgba(0, 0, 0, 0.3));\n",
              "      fill: #FFFFFF;\n",
              "    }\n",
              "  </style>\n",
              "\n",
              "      <script>\n",
              "        const buttonEl =\n",
              "          document.querySelector('#df-129c8ed6-c457-4651-bcd4-6711a7d7fdb6 button.colab-df-convert');\n",
              "        buttonEl.style.display =\n",
              "          google.colab.kernel.accessAllowed ? 'block' : 'none';\n",
              "\n",
              "        async function convertToInteractive(key) {\n",
              "          const element = document.querySelector('#df-129c8ed6-c457-4651-bcd4-6711a7d7fdb6');\n",
              "          const dataTable =\n",
              "            await google.colab.kernel.invokeFunction('convertToInteractive',\n",
              "                                                     [key], {});\n",
              "          if (!dataTable) return;\n",
              "\n",
              "          const docLinkHtml = 'Like what you see? Visit the ' +\n",
              "            '<a target=\"_blank\" href=https://colab.research.google.com/notebooks/data_table.ipynb>data table notebook</a>'\n",
              "            + ' to learn more about interactive tables.';\n",
              "          element.innerHTML = '';\n",
              "          dataTable['output_type'] = 'display_data';\n",
              "          await google.colab.output.renderOutput(dataTable, element);\n",
              "          const docLink = document.createElement('div');\n",
              "          docLink.innerHTML = docLinkHtml;\n",
              "          element.appendChild(docLink);\n",
              "        }\n",
              "      </script>\n",
              "    </div>\n",
              "  </div>\n",
              "  "
            ]
          },
          "metadata": {},
          "execution_count": 32
        }
      ],
      "source": [
        "df_pop.head(2)"
      ]
    },
    {
      "cell_type": "code",
      "execution_count": 33,
      "metadata": {
        "colab": {
          "base_uri": "https://localhost:8080/",
          "height": 80
        },
        "id": "OgrWZzhLbeIM",
        "outputId": "0fba2b2c-6cc1-4060-db1d-9ecb0acb041d"
      },
      "outputs": [
        {
          "output_type": "execute_result",
          "data": {
            "text/plain": [
              "    rating  number_of_reviews  no_of_plays  active_players  backlogs  \\\n",
              "45     4.0               1800        18000             541      4000   \n",
              "\n",
              "    wishlist  popularity  \n",
              "45      1400          81  "
            ],
            "text/html": [
              "\n",
              "  <div id=\"df-f3fb3825-e7b2-4801-89ad-8b8ceedde6bc\">\n",
              "    <div class=\"colab-df-container\">\n",
              "      <div>\n",
              "<style scoped>\n",
              "    .dataframe tbody tr th:only-of-type {\n",
              "        vertical-align: middle;\n",
              "    }\n",
              "\n",
              "    .dataframe tbody tr th {\n",
              "        vertical-align: top;\n",
              "    }\n",
              "\n",
              "    .dataframe thead th {\n",
              "        text-align: right;\n",
              "    }\n",
              "</style>\n",
              "<table border=\"1\" class=\"dataframe\">\n",
              "  <thead>\n",
              "    <tr style=\"text-align: right;\">\n",
              "      <th></th>\n",
              "      <th>rating</th>\n",
              "      <th>number_of_reviews</th>\n",
              "      <th>no_of_plays</th>\n",
              "      <th>active_players</th>\n",
              "      <th>backlogs</th>\n",
              "      <th>wishlist</th>\n",
              "      <th>popularity</th>\n",
              "    </tr>\n",
              "  </thead>\n",
              "  <tbody>\n",
              "    <tr>\n",
              "      <th>45</th>\n",
              "      <td>4.0</td>\n",
              "      <td>1800</td>\n",
              "      <td>18000</td>\n",
              "      <td>541</td>\n",
              "      <td>4000</td>\n",
              "      <td>1400</td>\n",
              "      <td>81</td>\n",
              "    </tr>\n",
              "  </tbody>\n",
              "</table>\n",
              "</div>\n",
              "      <button class=\"colab-df-convert\" onclick=\"convertToInteractive('df-f3fb3825-e7b2-4801-89ad-8b8ceedde6bc')\"\n",
              "              title=\"Convert this dataframe to an interactive table.\"\n",
              "              style=\"display:none;\">\n",
              "        \n",
              "  <svg xmlns=\"http://www.w3.org/2000/svg\" height=\"24px\"viewBox=\"0 0 24 24\"\n",
              "       width=\"24px\">\n",
              "    <path d=\"M0 0h24v24H0V0z\" fill=\"none\"/>\n",
              "    <path d=\"M18.56 5.44l.94 2.06.94-2.06 2.06-.94-2.06-.94-.94-2.06-.94 2.06-2.06.94zm-11 1L8.5 8.5l.94-2.06 2.06-.94-2.06-.94L8.5 2.5l-.94 2.06-2.06.94zm10 10l.94 2.06.94-2.06 2.06-.94-2.06-.94-.94-2.06-.94 2.06-2.06.94z\"/><path d=\"M17.41 7.96l-1.37-1.37c-.4-.4-.92-.59-1.43-.59-.52 0-1.04.2-1.43.59L10.3 9.45l-7.72 7.72c-.78.78-.78 2.05 0 2.83L4 21.41c.39.39.9.59 1.41.59.51 0 1.02-.2 1.41-.59l7.78-7.78 2.81-2.81c.8-.78.8-2.07 0-2.86zM5.41 20L4 18.59l7.72-7.72 1.47 1.35L5.41 20z\"/>\n",
              "  </svg>\n",
              "      </button>\n",
              "      \n",
              "  <style>\n",
              "    .colab-df-container {\n",
              "      display:flex;\n",
              "      flex-wrap:wrap;\n",
              "      gap: 12px;\n",
              "    }\n",
              "\n",
              "    .colab-df-convert {\n",
              "      background-color: #E8F0FE;\n",
              "      border: none;\n",
              "      border-radius: 50%;\n",
              "      cursor: pointer;\n",
              "      display: none;\n",
              "      fill: #1967D2;\n",
              "      height: 32px;\n",
              "      padding: 0 0 0 0;\n",
              "      width: 32px;\n",
              "    }\n",
              "\n",
              "    .colab-df-convert:hover {\n",
              "      background-color: #E2EBFA;\n",
              "      box-shadow: 0px 1px 2px rgba(60, 64, 67, 0.3), 0px 1px 3px 1px rgba(60, 64, 67, 0.15);\n",
              "      fill: #174EA6;\n",
              "    }\n",
              "\n",
              "    [theme=dark] .colab-df-convert {\n",
              "      background-color: #3B4455;\n",
              "      fill: #D2E3FC;\n",
              "    }\n",
              "\n",
              "    [theme=dark] .colab-df-convert:hover {\n",
              "      background-color: #434B5C;\n",
              "      box-shadow: 0px 1px 3px 1px rgba(0, 0, 0, 0.15);\n",
              "      filter: drop-shadow(0px 1px 2px rgba(0, 0, 0, 0.3));\n",
              "      fill: #FFFFFF;\n",
              "    }\n",
              "  </style>\n",
              "\n",
              "      <script>\n",
              "        const buttonEl =\n",
              "          document.querySelector('#df-f3fb3825-e7b2-4801-89ad-8b8ceedde6bc button.colab-df-convert');\n",
              "        buttonEl.style.display =\n",
              "          google.colab.kernel.accessAllowed ? 'block' : 'none';\n",
              "\n",
              "        async function convertToInteractive(key) {\n",
              "          const element = document.querySelector('#df-f3fb3825-e7b2-4801-89ad-8b8ceedde6bc');\n",
              "          const dataTable =\n",
              "            await google.colab.kernel.invokeFunction('convertToInteractive',\n",
              "                                                     [key], {});\n",
              "          if (!dataTable) return;\n",
              "\n",
              "          const docLinkHtml = 'Like what you see? Visit the ' +\n",
              "            '<a target=\"_blank\" href=https://colab.research.google.com/notebooks/data_table.ipynb>data table notebook</a>'\n",
              "            + ' to learn more about interactive tables.';\n",
              "          element.innerHTML = '';\n",
              "          dataTable['output_type'] = 'display_data';\n",
              "          await google.colab.output.renderOutput(dataTable, element);\n",
              "          const docLink = document.createElement('div');\n",
              "          docLink.innerHTML = docLinkHtml;\n",
              "          element.appendChild(docLink);\n",
              "        }\n",
              "      </script>\n",
              "    </div>\n",
              "  </div>\n",
              "  "
            ]
          },
          "metadata": {},
          "execution_count": 33
        }
      ],
      "source": [
        "df_pop1 = df_pop.drop(columns=['title', 'release_date', 'genres'])\n",
        "df_pop1.head(1)"
      ]
    },
    {
      "cell_type": "markdown",
      "metadata": {
        "id": "EXcneOPddT_4"
      },
      "source": [
        "Rating is our target variable\n",
        "\n",
        "We can take number_of_reviews, backlogs, and wishlist as meaningful features.\n"
      ]
    },
    {
      "cell_type": "code",
      "execution_count": 34,
      "metadata": {
        "id": "Y_5jn4NtgV3a"
      },
      "outputs": [],
      "source": [
        "df_pop1 = df_pop1.drop(columns=['active_players', 'no_of_plays', 'popularity'])"
      ]
    },
    {
      "cell_type": "code",
      "execution_count": 35,
      "metadata": {
        "colab": {
          "base_uri": "https://localhost:8080/",
          "height": 527
        },
        "id": "P_0s7FdneCGm",
        "outputId": "cba39f18-57e2-4196-a8c0-e6e495802f76"
      },
      "outputs": [
        {
          "output_type": "display_data",
          "data": {
            "text/plain": [
              "<Figure size 1500x500 with 3 Axes>"
            ],
            "image/png": "[encoded data removed]"
          },
          "metadata": {}
        }
      ],
      "source": [
        "fig, axs = plt.subplots(1, 3, figsize=(15, 5))\n",
        "\n",
        "axs[0].scatter(df_pop1['number_of_reviews'], df_pop1['rating'])\n",
        "axs[0].set_xlabel('Number of Reviews')\n",
        "axs[0].set_ylabel('Rating')\n",
        "\n",
        "axs[1].scatter(df_pop1['backlogs'], df_pop1['rating'])\n",
        "axs[1].set_xlabel('Backlogs')\n",
        "axs[1].set_ylabel('Rating')\n",
        "\n",
        "axs[2].scatter(df_pop1['wishlist'], df_pop1['rating'])\n",
        "axs[2].set_xlabel('Wishlist')\n",
        "axs[2].set_ylabel('Rating')\n",
        "\n",
        "plt.tight_layout()\n",
        "plt.show()"
      ]
    },
    {
      "cell_type": "markdown",
      "source": [
        "The features are positively correlated."
      ],
      "metadata": {
        "id": "8lYfi93Gv2gq"
      }
    },
    {
      "cell_type": "code",
      "execution_count": 36,
      "metadata": {
        "id": "RT6PZaqThKDg"
      },
      "outputs": [],
      "source": [
        "features = ['number_of_reviews', 'backlogs', 'wishlist']\n",
        "x = df_pop1.loc[:, features]\n",
        "y = df_pop1.loc[:, ['rating']]"
      ]
    },
    {
      "cell_type": "code",
      "execution_count": 37,
      "metadata": {
        "id": "Vrpg3yaEhQDe"
      },
      "outputs": [],
      "source": [
        "x_train, x_test, y_train, y_test = train_test_split(x, y, random_state=0, train_size=0.75)"
      ]
    },
    {
      "cell_type": "code",
      "source": [
        "# define the parameter grid for random search\n",
        "param_grid = {\n",
        "    'n_estimators': [10, 50, 100, 200],\n",
        "    'max_depth': [None, 5, 10, 20],\n",
        "    'min_samples_split': [2, 5, 10],\n",
        "    'min_samples_leaf': [1, 2, 4],\n",
        "    'max_features': ['auto', 'sqrt', 'log2'],\n",
        "    'bootstrap': [True, False]\n",
        "}\n",
        "\n",
        "# create the RandomForestRegressor model\n",
        "model = RandomForestRegressor(random_state=0)\n",
        "\n",
        "# perform random search with error_score='raise'\n",
        "random_search = RandomizedSearchCV(estimator=model, param_distributions=param_grid,\n",
        "                                   scoring='neg_mean_squared_error', cv=5,\n",
        "                                   random_state=0, n_iter=10, error_score='raise')\n",
        "\n",
        "# fit the random search to the training data\n",
        "random_search.fit(x_train, y_train)\n",
        "\n",
        "# get the best model from the random search\n",
        "best_model = random_search.best_estimator_\n",
        "\n",
        "# make predictions on the test data\n",
        "y_pred = best_model.predict(x_test)\n",
        "\n",
        "# evaluate the model using mean squared error\n",
        "mse = mean_squared_error(y_test, y_pred)\n",
        "print(\"Mean Squared Error: \", mse)\n",
        "r2 = r2_score(y_test, y_pred)\n",
        "print(\"R2 Score: \", r2)"
      ],
      "metadata": {
        "id": "Fv8gMqsem91B"
      },
      "execution_count": null,
      "outputs": []
    },
    {
      "cell_type": "markdown",
      "metadata": {
        "id": "4SIl3WmOhpRH"
      },
      "source": [
        "**Random Forest**\n",
        "\n",
        "Mean Squared Error:  0.17040259040261457\n",
        "\n",
        "R2 Score:  0.3901663673915716"
      ]
    },
    {
      "cell_type": "markdown",
      "source": [
        "### Logarithmic transformation"
      ],
      "metadata": {
        "id": "o8BFk6oJpot1"
      }
    },
    {
      "cell_type": "markdown",
      "source": [
        "As our features of the same scale but of different with the target variable, we can try to take a log of them."
      ],
      "metadata": {
        "id": "pYfoW0LPvpZ-"
      }
    },
    {
      "cell_type": "code",
      "source": [
        "# define the features and target variable\n",
        "features = ['number_of_reviews', 'backlogs', 'wishlist']\n",
        "x = df_pop1.loc[:, features]\n",
        "y = df_pop1.loc[:, 'rating']\n",
        "\n",
        "# take the logarithm of the selected features\n",
        "x['number_of_reviews'] = np.log(x['number_of_reviews'])\n",
        "x['backlogs'] = np.log(x['backlogs'])\n",
        "x['wishlist'] = np.log(x['wishlist'])\n",
        "\n",
        "# define the parameter grid for random search\n",
        "param_grid = {\n",
        "    'n_estimators': randint(100, 1000),\n",
        "    'max_depth': randint(1, 10),\n",
        "    'learning_rate': uniform(0.01, 0.5),\n",
        "    'subsample': uniform(0.5, 0.5),\n",
        "    'colsample_bytree': uniform(0.5, 0.5),\n",
        "    'gamma': uniform(0, 0.5)\n",
        "}\n",
        "\n",
        "# create the XGBoost regressor\n",
        "model = XGBRegressor(objective='reg:squarederror')\n",
        "\n",
        "# perform random search\n",
        "random_search = RandomizedSearchCV(estimator=model, param_distributions=param_grid,\n",
        "                                   scoring='neg_mean_squared_error', cv=5,\n",
        "                                   random_state=0, n_iter=10, error_score='raise')\n",
        "\n",
        "# fit the random search to the training data\n",
        "random_search.fit(x, y)\n",
        "\n",
        "# get the best model from random search\n",
        "best_model = random_search.best_estimator_\n",
        "\n",
        "# make predictions on the test data\n",
        "y_pred = best_model.predict(x)\n",
        "\n",
        "# evaluate the model using R2 score, MAE, and RMSE\n",
        "r2 = r2_score(y, y_pred)\n",
        "mae = mean_absolute_error(y, y_pred)\n",
        "rmse = mean_squared_error(y, y_pred, squared=False)\n",
        "print(\"R2 Score: \", r2)\n",
        "print(\"Mean Absolute Error: \", mae)\n",
        "print(\"Root Mean Squared Error: \", rmse)"
      ],
      "metadata": {
        "colab": {
          "base_uri": "https://localhost:8080/"
        },
        "id": "yvunhxeXrJsw",
        "outputId": "a80a0951-feba-430c-e70d-6755e1a9c23a"
      },
      "execution_count": 47,
      "outputs": [
        {
          "output_type": "stream",
          "name": "stdout",
          "text": [
            "R2 Score:  0.8297403567088253\n",
            "Mean Absolute Error:  0.16734585745114805\n",
            "Root Mean Squared Error:  0.2091436874778894\n"
          ]
        }
      ]
    },
    {
      "cell_type": "markdown",
      "source": [
        "R2 Score:  0.8297403567088253\n",
        "\n",
        "Mean Absolute Error:  0.16734585745114805\n",
        "\n",
        "Root Mean Squared Error:  0.2091436874778894"
      ],
      "metadata": {
        "id": "kA8-EMFersxf"
      }
    }
  ],
  "metadata": {
    "colab": {
      "provenance": []
    },
    "kernelspec": {
      "display_name": "Python 3",
      "name": "python3"
    },
    "language_info": {
      "name": "python"
    }
  },
  "nbformat": 4,
  "nbformat_minor": 0
}